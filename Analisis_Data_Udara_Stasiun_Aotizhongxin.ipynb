{
  "cells": [
    {
      "cell_type": "markdown",
      "metadata": {
        "id": "view-in-github",
        "colab_type": "text"
      },
      "source": [
        "<a href=\"https://colab.research.google.com/github/fumiya123/DA_Analisis_Data_Stasiun_Aotizhongxin/blob/main/Analisis_Data_Udara_Stasiun_Aotizhongxin.ipynb\" target=\"_parent\"><img src=\"https://colab.research.google.com/assets/colab-badge.svg\" alt=\"Open In Colab\"/></a>"
      ]
    },
    {
      "cell_type": "markdown",
      "metadata": {
        "id": "cP5zh7Ww85Fm"
      },
      "source": [
        "# Proyek Analisis Data: [Air Quality Dataset](https://github.com/marceloreis/HTI/tree/master)\n",
        "- Nama: Habib Aizul Haq\n",
        "- Email: habibalhaq53043@gmail.com\n",
        "- Id Dicoding: kuroba_izzul"
      ]
    },
    {
      "cell_type": "markdown",
      "metadata": {
        "id": "ggwOFmpI88dG"
      },
      "source": [
        "## Menentukan Pertanyaan Bisnis"
      ]
    },
    {
      "cell_type": "markdown",
      "metadata": {
        "id": "6irqmTtg8-IC"
      },
      "source": [
        "- Berapa pengaruh kadar PM2.5, PM10, SO2, NO2, CO dan O3 satu sama lain.\n",
        "- Berapa pengaruh kadar TEMP (Temperatur), DEWP (Suhu Titik Beku) satu sama lain.\n",
        "- Berapa Skor Indek Kualitas Udara dalam 1 minggu."
      ]
    },
    {
      "cell_type": "markdown",
      "metadata": {
        "id": "EueHsNk89AsY"
      },
      "source": [
        "## Menyaipkan semua library yang dibutuhkan"
      ]
    },
    {
      "cell_type": "code",
      "execution_count": 1,
      "metadata": {
        "id": "4cmWv4qc8xWu"
      },
      "outputs": [],
      "source": [
        "import numpy as np\n",
        "import pandas as pd\n",
        "import matplotlib.pyplot as plt\n",
        "import seaborn as sns"
      ]
    },
    {
      "cell_type": "markdown",
      "metadata": {
        "id": "7DwSpkkZ9BqV"
      },
      "source": [
        "## Data Wrangling"
      ]
    },
    {
      "cell_type": "markdown",
      "metadata": {
        "id": "ZuJuLGxe9D9O"
      },
      "source": [
        "### Gathering Data"
      ]
    },
    {
      "cell_type": "code",
      "execution_count": 2,
      "metadata": {
        "colab": {
          "base_uri": "https://localhost:8080/"
        },
        "id": "Rg3wtvOr9DUm",
        "outputId": "45b7b388-aed2-4b0a-ce9b-a03f0d882a6a"
      },
      "outputs": [
        {
          "output_type": "stream",
          "name": "stdout",
          "text": [
            "Drive already mounted at /content/gdrive; to attempt to forcibly remount, call drive.mount(\"/content/gdrive\", force_remount=True).\n"
          ]
        }
      ],
      "source": [
        "from google.colab import drive\n",
        "drive.mount('/content/gdrive')"
      ]
    },
    {
      "cell_type": "code",
      "execution_count": 3,
      "metadata": {
        "id": "PPrcmAMBk3M3"
      },
      "outputs": [],
      "source": [
        "data_udara = pd.read_csv('/content/gdrive/My Drive/dataset/PRSA_Data_Aotizhongxin_20130301-20170228.csv')"
      ]
    },
    {
      "cell_type": "markdown",
      "metadata": {
        "id": "BvZAfrSH9F2U"
      },
      "source": [
        "### Assessing Data"
      ]
    },
    {
      "cell_type": "markdown",
      "metadata": {
        "id": "T557TRrsl-m-"
      },
      "source": [
        "Ditahap ini kita akan menilai dan melihat keakuratan data dengan mengecek jumlah baris dan kolom, tipe data, data kosong, duplikasi data deskripsi statistik.\n",
        "\n",
        "1. Kita cek jumlah baris dan kolom dengan kode `data_udara` kode tersebut merupakan variabel yang kita definisikan di proses Gathering Data untuk menampung dataset PRSA_Data_Aotizhongxin_20130301-20170228.csv"
      ]
    },
    {
      "cell_type": "code",
      "execution_count": 4,
      "metadata": {
        "colab": {
          "base_uri": "https://localhost:8080/",
          "height": 444
        },
        "id": "1gXO-qsxlJVP",
        "outputId": "845b3891-fe70-47ae-e46f-640b54aff0ea"
      },
      "outputs": [
        {
          "output_type": "execute_result",
          "data": {
            "text/plain": [
              "          No  year  month  day  hour  PM2.5  PM10   SO2   NO2     CO    O3  \\\n",
              "0          1  2013      3    1     0    4.0   4.0   4.0   7.0  300.0  77.0   \n",
              "1          2  2013      3    1     1    8.0   8.0   4.0   7.0  300.0  77.0   \n",
              "2          3  2013      3    1     2    7.0   7.0   5.0  10.0  300.0  73.0   \n",
              "3          4  2013      3    1     3    6.0   6.0  11.0  11.0  300.0  72.0   \n",
              "4          5  2013      3    1     4    3.0   3.0  12.0  12.0  300.0  72.0   \n",
              "...      ...   ...    ...  ...   ...    ...   ...   ...   ...    ...   ...   \n",
              "35059  35060  2017      2   28    19   12.0  29.0   5.0  35.0  400.0  95.0   \n",
              "35060  35061  2017      2   28    20   13.0  37.0   7.0  45.0  500.0  81.0   \n",
              "35061  35062  2017      2   28    21   16.0  37.0  10.0  66.0  700.0  58.0   \n",
              "35062  35063  2017      2   28    22   21.0  44.0  12.0  87.0  700.0  35.0   \n",
              "35063  35064  2017      2   28    23   19.0  31.0  10.0  79.0  600.0  42.0   \n",
              "\n",
              "       TEMP    PRES  DEWP  RAIN   wd  WSPM       station  \n",
              "0      -0.7  1023.0 -18.8   0.0  NNW   4.4  Aotizhongxin  \n",
              "1      -1.1  1023.2 -18.2   0.0    N   4.7  Aotizhongxin  \n",
              "2      -1.1  1023.5 -18.2   0.0  NNW   5.6  Aotizhongxin  \n",
              "3      -1.4  1024.5 -19.4   0.0   NW   3.1  Aotizhongxin  \n",
              "4      -2.0  1025.2 -19.5   0.0    N   2.0  Aotizhongxin  \n",
              "...     ...     ...   ...   ...  ...   ...           ...  \n",
              "35059  12.5  1013.5 -16.2   0.0   NW   2.4  Aotizhongxin  \n",
              "35060  11.6  1013.6 -15.1   0.0  WNW   0.9  Aotizhongxin  \n",
              "35061  10.8  1014.2 -13.3   0.0   NW   1.1  Aotizhongxin  \n",
              "35062  10.5  1014.4 -12.9   0.0  NNW   1.2  Aotizhongxin  \n",
              "35063   8.6  1014.1 -15.9   0.0  NNE   1.3  Aotizhongxin  \n",
              "\n",
              "[35064 rows x 18 columns]"
            ],
            "text/html": [
              "\n",
              "  <div id=\"df-1d967c14-7295-4fdd-8bac-efcb4e2b8a40\" class=\"colab-df-container\">\n",
              "    <div>\n",
              "<style scoped>\n",
              "    .dataframe tbody tr th:only-of-type {\n",
              "        vertical-align: middle;\n",
              "    }\n",
              "\n",
              "    .dataframe tbody tr th {\n",
              "        vertical-align: top;\n",
              "    }\n",
              "\n",
              "    .dataframe thead th {\n",
              "        text-align: right;\n",
              "    }\n",
              "</style>\n",
              "<table border=\"1\" class=\"dataframe\">\n",
              "  <thead>\n",
              "    <tr style=\"text-align: right;\">\n",
              "      <th></th>\n",
              "      <th>No</th>\n",
              "      <th>year</th>\n",
              "      <th>month</th>\n",
              "      <th>day</th>\n",
              "      <th>hour</th>\n",
              "      <th>PM2.5</th>\n",
              "      <th>PM10</th>\n",
              "      <th>SO2</th>\n",
              "      <th>NO2</th>\n",
              "      <th>CO</th>\n",
              "      <th>O3</th>\n",
              "      <th>TEMP</th>\n",
              "      <th>PRES</th>\n",
              "      <th>DEWP</th>\n",
              "      <th>RAIN</th>\n",
              "      <th>wd</th>\n",
              "      <th>WSPM</th>\n",
              "      <th>station</th>\n",
              "    </tr>\n",
              "  </thead>\n",
              "  <tbody>\n",
              "    <tr>\n",
              "      <th>0</th>\n",
              "      <td>1</td>\n",
              "      <td>2013</td>\n",
              "      <td>3</td>\n",
              "      <td>1</td>\n",
              "      <td>0</td>\n",
              "      <td>4.0</td>\n",
              "      <td>4.0</td>\n",
              "      <td>4.0</td>\n",
              "      <td>7.0</td>\n",
              "      <td>300.0</td>\n",
              "      <td>77.0</td>\n",
              "      <td>-0.7</td>\n",
              "      <td>1023.0</td>\n",
              "      <td>-18.8</td>\n",
              "      <td>0.0</td>\n",
              "      <td>NNW</td>\n",
              "      <td>4.4</td>\n",
              "      <td>Aotizhongxin</td>\n",
              "    </tr>\n",
              "    <tr>\n",
              "      <th>1</th>\n",
              "      <td>2</td>\n",
              "      <td>2013</td>\n",
              "      <td>3</td>\n",
              "      <td>1</td>\n",
              "      <td>1</td>\n",
              "      <td>8.0</td>\n",
              "      <td>8.0</td>\n",
              "      <td>4.0</td>\n",
              "      <td>7.0</td>\n",
              "      <td>300.0</td>\n",
              "      <td>77.0</td>\n",
              "      <td>-1.1</td>\n",
              "      <td>1023.2</td>\n",
              "      <td>-18.2</td>\n",
              "      <td>0.0</td>\n",
              "      <td>N</td>\n",
              "      <td>4.7</td>\n",
              "      <td>Aotizhongxin</td>\n",
              "    </tr>\n",
              "    <tr>\n",
              "      <th>2</th>\n",
              "      <td>3</td>\n",
              "      <td>2013</td>\n",
              "      <td>3</td>\n",
              "      <td>1</td>\n",
              "      <td>2</td>\n",
              "      <td>7.0</td>\n",
              "      <td>7.0</td>\n",
              "      <td>5.0</td>\n",
              "      <td>10.0</td>\n",
              "      <td>300.0</td>\n",
              "      <td>73.0</td>\n",
              "      <td>-1.1</td>\n",
              "      <td>1023.5</td>\n",
              "      <td>-18.2</td>\n",
              "      <td>0.0</td>\n",
              "      <td>NNW</td>\n",
              "      <td>5.6</td>\n",
              "      <td>Aotizhongxin</td>\n",
              "    </tr>\n",
              "    <tr>\n",
              "      <th>3</th>\n",
              "      <td>4</td>\n",
              "      <td>2013</td>\n",
              "      <td>3</td>\n",
              "      <td>1</td>\n",
              "      <td>3</td>\n",
              "      <td>6.0</td>\n",
              "      <td>6.0</td>\n",
              "      <td>11.0</td>\n",
              "      <td>11.0</td>\n",
              "      <td>300.0</td>\n",
              "      <td>72.0</td>\n",
              "      <td>-1.4</td>\n",
              "      <td>1024.5</td>\n",
              "      <td>-19.4</td>\n",
              "      <td>0.0</td>\n",
              "      <td>NW</td>\n",
              "      <td>3.1</td>\n",
              "      <td>Aotizhongxin</td>\n",
              "    </tr>\n",
              "    <tr>\n",
              "      <th>4</th>\n",
              "      <td>5</td>\n",
              "      <td>2013</td>\n",
              "      <td>3</td>\n",
              "      <td>1</td>\n",
              "      <td>4</td>\n",
              "      <td>3.0</td>\n",
              "      <td>3.0</td>\n",
              "      <td>12.0</td>\n",
              "      <td>12.0</td>\n",
              "      <td>300.0</td>\n",
              "      <td>72.0</td>\n",
              "      <td>-2.0</td>\n",
              "      <td>1025.2</td>\n",
              "      <td>-19.5</td>\n",
              "      <td>0.0</td>\n",
              "      <td>N</td>\n",
              "      <td>2.0</td>\n",
              "      <td>Aotizhongxin</td>\n",
              "    </tr>\n",
              "    <tr>\n",
              "      <th>...</th>\n",
              "      <td>...</td>\n",
              "      <td>...</td>\n",
              "      <td>...</td>\n",
              "      <td>...</td>\n",
              "      <td>...</td>\n",
              "      <td>...</td>\n",
              "      <td>...</td>\n",
              "      <td>...</td>\n",
              "      <td>...</td>\n",
              "      <td>...</td>\n",
              "      <td>...</td>\n",
              "      <td>...</td>\n",
              "      <td>...</td>\n",
              "      <td>...</td>\n",
              "      <td>...</td>\n",
              "      <td>...</td>\n",
              "      <td>...</td>\n",
              "      <td>...</td>\n",
              "    </tr>\n",
              "    <tr>\n",
              "      <th>35059</th>\n",
              "      <td>35060</td>\n",
              "      <td>2017</td>\n",
              "      <td>2</td>\n",
              "      <td>28</td>\n",
              "      <td>19</td>\n",
              "      <td>12.0</td>\n",
              "      <td>29.0</td>\n",
              "      <td>5.0</td>\n",
              "      <td>35.0</td>\n",
              "      <td>400.0</td>\n",
              "      <td>95.0</td>\n",
              "      <td>12.5</td>\n",
              "      <td>1013.5</td>\n",
              "      <td>-16.2</td>\n",
              "      <td>0.0</td>\n",
              "      <td>NW</td>\n",
              "      <td>2.4</td>\n",
              "      <td>Aotizhongxin</td>\n",
              "    </tr>\n",
              "    <tr>\n",
              "      <th>35060</th>\n",
              "      <td>35061</td>\n",
              "      <td>2017</td>\n",
              "      <td>2</td>\n",
              "      <td>28</td>\n",
              "      <td>20</td>\n",
              "      <td>13.0</td>\n",
              "      <td>37.0</td>\n",
              "      <td>7.0</td>\n",
              "      <td>45.0</td>\n",
              "      <td>500.0</td>\n",
              "      <td>81.0</td>\n",
              "      <td>11.6</td>\n",
              "      <td>1013.6</td>\n",
              "      <td>-15.1</td>\n",
              "      <td>0.0</td>\n",
              "      <td>WNW</td>\n",
              "      <td>0.9</td>\n",
              "      <td>Aotizhongxin</td>\n",
              "    </tr>\n",
              "    <tr>\n",
              "      <th>35061</th>\n",
              "      <td>35062</td>\n",
              "      <td>2017</td>\n",
              "      <td>2</td>\n",
              "      <td>28</td>\n",
              "      <td>21</td>\n",
              "      <td>16.0</td>\n",
              "      <td>37.0</td>\n",
              "      <td>10.0</td>\n",
              "      <td>66.0</td>\n",
              "      <td>700.0</td>\n",
              "      <td>58.0</td>\n",
              "      <td>10.8</td>\n",
              "      <td>1014.2</td>\n",
              "      <td>-13.3</td>\n",
              "      <td>0.0</td>\n",
              "      <td>NW</td>\n",
              "      <td>1.1</td>\n",
              "      <td>Aotizhongxin</td>\n",
              "    </tr>\n",
              "    <tr>\n",
              "      <th>35062</th>\n",
              "      <td>35063</td>\n",
              "      <td>2017</td>\n",
              "      <td>2</td>\n",
              "      <td>28</td>\n",
              "      <td>22</td>\n",
              "      <td>21.0</td>\n",
              "      <td>44.0</td>\n",
              "      <td>12.0</td>\n",
              "      <td>87.0</td>\n",
              "      <td>700.0</td>\n",
              "      <td>35.0</td>\n",
              "      <td>10.5</td>\n",
              "      <td>1014.4</td>\n",
              "      <td>-12.9</td>\n",
              "      <td>0.0</td>\n",
              "      <td>NNW</td>\n",
              "      <td>1.2</td>\n",
              "      <td>Aotizhongxin</td>\n",
              "    </tr>\n",
              "    <tr>\n",
              "      <th>35063</th>\n",
              "      <td>35064</td>\n",
              "      <td>2017</td>\n",
              "      <td>2</td>\n",
              "      <td>28</td>\n",
              "      <td>23</td>\n",
              "      <td>19.0</td>\n",
              "      <td>31.0</td>\n",
              "      <td>10.0</td>\n",
              "      <td>79.0</td>\n",
              "      <td>600.0</td>\n",
              "      <td>42.0</td>\n",
              "      <td>8.6</td>\n",
              "      <td>1014.1</td>\n",
              "      <td>-15.9</td>\n",
              "      <td>0.0</td>\n",
              "      <td>NNE</td>\n",
              "      <td>1.3</td>\n",
              "      <td>Aotizhongxin</td>\n",
              "    </tr>\n",
              "  </tbody>\n",
              "</table>\n",
              "<p>35064 rows × 18 columns</p>\n",
              "</div>\n",
              "    <div class=\"colab-df-buttons\">\n",
              "\n",
              "  <div class=\"colab-df-container\">\n",
              "    <button class=\"colab-df-convert\" onclick=\"convertToInteractive('df-1d967c14-7295-4fdd-8bac-efcb4e2b8a40')\"\n",
              "            title=\"Convert this dataframe to an interactive table.\"\n",
              "            style=\"display:none;\">\n",
              "\n",
              "  <svg xmlns=\"http://www.w3.org/2000/svg\" height=\"24px\" viewBox=\"0 -960 960 960\">\n",
              "    <path d=\"M120-120v-720h720v720H120Zm60-500h600v-160H180v160Zm220 220h160v-160H400v160Zm0 220h160v-160H400v160ZM180-400h160v-160H180v160Zm440 0h160v-160H620v160ZM180-180h160v-160H180v160Zm440 0h160v-160H620v160Z\"/>\n",
              "  </svg>\n",
              "    </button>\n",
              "\n",
              "  <style>\n",
              "    .colab-df-container {\n",
              "      display:flex;\n",
              "      gap: 12px;\n",
              "    }\n",
              "\n",
              "    .colab-df-convert {\n",
              "      background-color: #E8F0FE;\n",
              "      border: none;\n",
              "      border-radius: 50%;\n",
              "      cursor: pointer;\n",
              "      display: none;\n",
              "      fill: #1967D2;\n",
              "      height: 32px;\n",
              "      padding: 0 0 0 0;\n",
              "      width: 32px;\n",
              "    }\n",
              "\n",
              "    .colab-df-convert:hover {\n",
              "      background-color: #E2EBFA;\n",
              "      box-shadow: 0px 1px 2px rgba(60, 64, 67, 0.3), 0px 1px 3px 1px rgba(60, 64, 67, 0.15);\n",
              "      fill: #174EA6;\n",
              "    }\n",
              "\n",
              "    .colab-df-buttons div {\n",
              "      margin-bottom: 4px;\n",
              "    }\n",
              "\n",
              "    [theme=dark] .colab-df-convert {\n",
              "      background-color: #3B4455;\n",
              "      fill: #D2E3FC;\n",
              "    }\n",
              "\n",
              "    [theme=dark] .colab-df-convert:hover {\n",
              "      background-color: #434B5C;\n",
              "      box-shadow: 0px 1px 3px 1px rgba(0, 0, 0, 0.15);\n",
              "      filter: drop-shadow(0px 1px 2px rgba(0, 0, 0, 0.3));\n",
              "      fill: #FFFFFF;\n",
              "    }\n",
              "  </style>\n",
              "\n",
              "    <script>\n",
              "      const buttonEl =\n",
              "        document.querySelector('#df-1d967c14-7295-4fdd-8bac-efcb4e2b8a40 button.colab-df-convert');\n",
              "      buttonEl.style.display =\n",
              "        google.colab.kernel.accessAllowed ? 'block' : 'none';\n",
              "\n",
              "      async function convertToInteractive(key) {\n",
              "        const element = document.querySelector('#df-1d967c14-7295-4fdd-8bac-efcb4e2b8a40');\n",
              "        const dataTable =\n",
              "          await google.colab.kernel.invokeFunction('convertToInteractive',\n",
              "                                                    [key], {});\n",
              "        if (!dataTable) return;\n",
              "\n",
              "        const docLinkHtml = 'Like what you see? Visit the ' +\n",
              "          '<a target=\"_blank\" href=https://colab.research.google.com/notebooks/data_table.ipynb>data table notebook</a>'\n",
              "          + ' to learn more about interactive tables.';\n",
              "        element.innerHTML = '';\n",
              "        dataTable['output_type'] = 'display_data';\n",
              "        await google.colab.output.renderOutput(dataTable, element);\n",
              "        const docLink = document.createElement('div');\n",
              "        docLink.innerHTML = docLinkHtml;\n",
              "        element.appendChild(docLink);\n",
              "      }\n",
              "    </script>\n",
              "  </div>\n",
              "\n",
              "\n",
              "<div id=\"df-3bf9236c-7d65-49c4-838e-9c34f025d5fc\">\n",
              "  <button class=\"colab-df-quickchart\" onclick=\"quickchart('df-3bf9236c-7d65-49c4-838e-9c34f025d5fc')\"\n",
              "            title=\"Suggest charts\"\n",
              "            style=\"display:none;\">\n",
              "\n",
              "<svg xmlns=\"http://www.w3.org/2000/svg\" height=\"24px\"viewBox=\"0 0 24 24\"\n",
              "     width=\"24px\">\n",
              "    <g>\n",
              "        <path d=\"M19 3H5c-1.1 0-2 .9-2 2v14c0 1.1.9 2 2 2h14c1.1 0 2-.9 2-2V5c0-1.1-.9-2-2-2zM9 17H7v-7h2v7zm4 0h-2V7h2v10zm4 0h-2v-4h2v4z\"/>\n",
              "    </g>\n",
              "</svg>\n",
              "  </button>\n",
              "\n",
              "<style>\n",
              "  .colab-df-quickchart {\n",
              "      --bg-color: #E8F0FE;\n",
              "      --fill-color: #1967D2;\n",
              "      --hover-bg-color: #E2EBFA;\n",
              "      --hover-fill-color: #174EA6;\n",
              "      --disabled-fill-color: #AAA;\n",
              "      --disabled-bg-color: #DDD;\n",
              "  }\n",
              "\n",
              "  [theme=dark] .colab-df-quickchart {\n",
              "      --bg-color: #3B4455;\n",
              "      --fill-color: #D2E3FC;\n",
              "      --hover-bg-color: #434B5C;\n",
              "      --hover-fill-color: #FFFFFF;\n",
              "      --disabled-bg-color: #3B4455;\n",
              "      --disabled-fill-color: #666;\n",
              "  }\n",
              "\n",
              "  .colab-df-quickchart {\n",
              "    background-color: var(--bg-color);\n",
              "    border: none;\n",
              "    border-radius: 50%;\n",
              "    cursor: pointer;\n",
              "    display: none;\n",
              "    fill: var(--fill-color);\n",
              "    height: 32px;\n",
              "    padding: 0;\n",
              "    width: 32px;\n",
              "  }\n",
              "\n",
              "  .colab-df-quickchart:hover {\n",
              "    background-color: var(--hover-bg-color);\n",
              "    box-shadow: 0 1px 2px rgba(60, 64, 67, 0.3), 0 1px 3px 1px rgba(60, 64, 67, 0.15);\n",
              "    fill: var(--button-hover-fill-color);\n",
              "  }\n",
              "\n",
              "  .colab-df-quickchart-complete:disabled,\n",
              "  .colab-df-quickchart-complete:disabled:hover {\n",
              "    background-color: var(--disabled-bg-color);\n",
              "    fill: var(--disabled-fill-color);\n",
              "    box-shadow: none;\n",
              "  }\n",
              "\n",
              "  .colab-df-spinner {\n",
              "    border: 2px solid var(--fill-color);\n",
              "    border-color: transparent;\n",
              "    border-bottom-color: var(--fill-color);\n",
              "    animation:\n",
              "      spin 1s steps(1) infinite;\n",
              "  }\n",
              "\n",
              "  @keyframes spin {\n",
              "    0% {\n",
              "      border-color: transparent;\n",
              "      border-bottom-color: var(--fill-color);\n",
              "      border-left-color: var(--fill-color);\n",
              "    }\n",
              "    20% {\n",
              "      border-color: transparent;\n",
              "      border-left-color: var(--fill-color);\n",
              "      border-top-color: var(--fill-color);\n",
              "    }\n",
              "    30% {\n",
              "      border-color: transparent;\n",
              "      border-left-color: var(--fill-color);\n",
              "      border-top-color: var(--fill-color);\n",
              "      border-right-color: var(--fill-color);\n",
              "    }\n",
              "    40% {\n",
              "      border-color: transparent;\n",
              "      border-right-color: var(--fill-color);\n",
              "      border-top-color: var(--fill-color);\n",
              "    }\n",
              "    60% {\n",
              "      border-color: transparent;\n",
              "      border-right-color: var(--fill-color);\n",
              "    }\n",
              "    80% {\n",
              "      border-color: transparent;\n",
              "      border-right-color: var(--fill-color);\n",
              "      border-bottom-color: var(--fill-color);\n",
              "    }\n",
              "    90% {\n",
              "      border-color: transparent;\n",
              "      border-bottom-color: var(--fill-color);\n",
              "    }\n",
              "  }\n",
              "</style>\n",
              "\n",
              "  <script>\n",
              "    async function quickchart(key) {\n",
              "      const quickchartButtonEl =\n",
              "        document.querySelector('#' + key + ' button');\n",
              "      quickchartButtonEl.disabled = true;  // To prevent multiple clicks.\n",
              "      quickchartButtonEl.classList.add('colab-df-spinner');\n",
              "      try {\n",
              "        const charts = await google.colab.kernel.invokeFunction(\n",
              "            'suggestCharts', [key], {});\n",
              "      } catch (error) {\n",
              "        console.error('Error during call to suggestCharts:', error);\n",
              "      }\n",
              "      quickchartButtonEl.classList.remove('colab-df-spinner');\n",
              "      quickchartButtonEl.classList.add('colab-df-quickchart-complete');\n",
              "    }\n",
              "    (() => {\n",
              "      let quickchartButtonEl =\n",
              "        document.querySelector('#df-3bf9236c-7d65-49c4-838e-9c34f025d5fc button');\n",
              "      quickchartButtonEl.style.display =\n",
              "        google.colab.kernel.accessAllowed ? 'block' : 'none';\n",
              "    })();\n",
              "  </script>\n",
              "</div>\n",
              "    </div>\n",
              "  </div>\n"
            ]
          },
          "metadata": {},
          "execution_count": 4
        }
      ],
      "source": [
        "data_udara"
      ]
    },
    {
      "cell_type": "markdown",
      "metadata": {
        "id": "mRceiKNBdc0N"
      },
      "source": [
        "Di pojok kiri bawah dapat kita lihat bahwa terdapat 35064 baris dan 18 kolom dengan rincian setiap kolom sebagai berikut:\n",
        "\n",
        "- No: nomor kolom\n",
        "- year: tahun\n",
        "- month: bulan\n",
        "- day: hari\n",
        "- hour: jam\n",
        "- PM2.5: kadar PM2.5 (partikel udara yang berukuran lebih kecil dari atau sama dengan 2.5 µm (mikrometer)) dengan satuan mikrogram per meter kubik (µg/m^3)\n",
        "- PM10: kadar PM10 (Partikel udara yang berukuran lebih kecil dari 10 mikron (mikrometer)) dengan satuan mikrogram per meter kubik (µg/m^3)\n",
        "- SO2: kadar SO2 (Sulfur Dioksida) dengan satuan mikrogram per meter kubik (µg/m^3)\n",
        "- NO2: kadar NO2 (Nitrogen Dioksida) dengan satuan mikrogram per meter kubik (µg/m^3)\n",
        "- CO: kadar CO (Karbon Monoksida) dengan satuan mikrogram per meter kubik (µg/m^3)\n",
        "- O3: kadar O3 (Gas Ozon) dengan satuan mikrogram per meter kubik (µg/m^3)\n",
        "- TEMP: suhu dalam Celsius (C)\n",
        "- PRES: tekanan udara dalam hecto Pascal (hPa)\n",
        "- DEWP: suhu titik embun dalam Celsius (C)\n",
        "- RAIN: curah hujan dalam milimeter (mm)\n",
        "- wd: arah angin (dalam bahasa inggris N = Utara, S = Selatan, W = Barat, E = Timur)\n",
        "- WSPM: kecepatan angin dalam meter per detik (m/s)\n",
        "- station: nama stasiun yang memonitor"
      ]
    },
    {
      "cell_type": "markdown",
      "metadata": {
        "id": "s9eqsnmH-ob3"
      },
      "source": [
        "2. Selanjutnya kita akan mengecek tipe data yang ada dalam variabel `data_udara` menggunakan method `.info()`"
      ]
    },
    {
      "cell_type": "code",
      "execution_count": 5,
      "metadata": {
        "colab": {
          "base_uri": "https://localhost:8080/"
        },
        "id": "fx7PaLsV9G8M",
        "outputId": "d1543409-7721-41ac-8e69-64ff8e8c3d18"
      },
      "outputs": [
        {
          "output_type": "stream",
          "name": "stdout",
          "text": [
            "<class 'pandas.core.frame.DataFrame'>\n",
            "RangeIndex: 35064 entries, 0 to 35063\n",
            "Data columns (total 18 columns):\n",
            " #   Column   Non-Null Count  Dtype  \n",
            "---  ------   --------------  -----  \n",
            " 0   No       35064 non-null  int64  \n",
            " 1   year     35064 non-null  int64  \n",
            " 2   month    35064 non-null  int64  \n",
            " 3   day      35064 non-null  int64  \n",
            " 4   hour     35064 non-null  int64  \n",
            " 5   PM2.5    34139 non-null  float64\n",
            " 6   PM10     34346 non-null  float64\n",
            " 7   SO2      34129 non-null  float64\n",
            " 8   NO2      34041 non-null  float64\n",
            " 9   CO       33288 non-null  float64\n",
            " 10  O3       33345 non-null  float64\n",
            " 11  TEMP     35044 non-null  float64\n",
            " 12  PRES     35044 non-null  float64\n",
            " 13  DEWP     35044 non-null  float64\n",
            " 14  RAIN     35044 non-null  float64\n",
            " 15  wd       34983 non-null  object \n",
            " 16  WSPM     35050 non-null  float64\n",
            " 17  station  35064 non-null  object \n",
            "dtypes: float64(11), int64(5), object(2)\n",
            "memory usage: 4.8+ MB\n"
          ]
        }
      ],
      "source": [
        "data_udara.info()"
      ]
    },
    {
      "cell_type": "markdown",
      "metadata": {
        "id": "OvwUOfLQ_t_W"
      },
      "source": [
        "Dari hasil diatas kita bisa mengetahui:\n",
        " - 11 kolom bertipe data float64\n",
        " - 5 kolom bertipe data int64 dan\n",
        " - 2 kolom bertipe data object."
      ]
    },
    {
      "cell_type": "markdown",
      "metadata": {
        "id": "0jseyJvYOe1V"
      },
      "source": [
        "3. Lanjut kita akan mengecek apakah ada data yg kosong atau tidak, menggunakan method `.isna().sum()`"
      ]
    },
    {
      "cell_type": "code",
      "execution_count": 6,
      "metadata": {
        "colab": {
          "base_uri": "https://localhost:8080/"
        },
        "id": "uJnGVSFBOG2-",
        "outputId": "6cfbbee9-bab0-4c2c-d049-e2f0e3b2a014"
      },
      "outputs": [
        {
          "output_type": "execute_result",
          "data": {
            "text/plain": [
              "No            0\n",
              "year          0\n",
              "month         0\n",
              "day           0\n",
              "hour          0\n",
              "PM2.5       925\n",
              "PM10        718\n",
              "SO2         935\n",
              "NO2        1023\n",
              "CO         1776\n",
              "O3         1719\n",
              "TEMP         20\n",
              "PRES         20\n",
              "DEWP         20\n",
              "RAIN         20\n",
              "wd           81\n",
              "WSPM         14\n",
              "station       0\n",
              "dtype: int64"
            ]
          },
          "metadata": {},
          "execution_count": 6
        }
      ],
      "source": [
        "data_udara.isna().sum()"
      ]
    },
    {
      "cell_type": "markdown",
      "metadata": {
        "id": "3Xq_XyOvPcit"
      },
      "source": [
        "Dari hasil diatas ada 12 kolom yang terdapat data yang kosong. Tenang kita akan membereskannya di proses cleaning data.\n",
        "\n",
        "4. Lanjut kita akan mengecek apakah data kita memiliki duplicate, dengan method `.duplicate()` dan `.sum()` untuk menjumlah total data yang terdapat duplikasi."
      ]
    },
    {
      "cell_type": "code",
      "execution_count": 7,
      "metadata": {
        "colab": {
          "base_uri": "https://localhost:8080/"
        },
        "id": "-P7YSbkngTrz",
        "outputId": "e5c06eb6-e0fc-4eb9-c3b9-cb968573c01e"
      },
      "outputs": [
        {
          "output_type": "execute_result",
          "data": {
            "text/plain": [
              "0"
            ]
          },
          "metadata": {},
          "execution_count": 7
        }
      ],
      "source": [
        "data_udara.duplicated().sum()"
      ]
    },
    {
      "cell_type": "markdown",
      "metadata": {
        "id": "eouEX1BWhczn"
      },
      "source": [
        "Dari hasil data kita aman dari duplikasi.\n",
        "\n",
        "5. Tahap terakhir kita akan melihat parameter statistik dari kolom numerik dengan menggunakan method `.describe()`."
      ]
    },
    {
      "cell_type": "code",
      "execution_count": 8,
      "metadata": {
        "colab": {
          "base_uri": "https://localhost:8080/",
          "height": 320
        },
        "id": "HK62w17-gjqp",
        "outputId": "60c812c7-1c3d-4106-e708-b68f76b74b28"
      },
      "outputs": [
        {
          "output_type": "execute_result",
          "data": {
            "text/plain": [
              "                 No          year         month           day          hour  \\\n",
              "count  35064.000000  35064.000000  35064.000000  35064.000000  35064.000000   \n",
              "mean   17532.500000   2014.662560      6.522930     15.729637     11.500000   \n",
              "std    10122.249256      1.177213      3.448752      8.800218      6.922285   \n",
              "min        1.000000   2013.000000      1.000000      1.000000      0.000000   \n",
              "25%     8766.750000   2014.000000      4.000000      8.000000      5.750000   \n",
              "50%    17532.500000   2015.000000      7.000000     16.000000     11.500000   \n",
              "75%    26298.250000   2016.000000     10.000000     23.000000     17.250000   \n",
              "max    35064.000000   2017.000000     12.000000     31.000000     23.000000   \n",
              "\n",
              "              PM2.5          PM10           SO2           NO2            CO  \\\n",
              "count  34139.000000  34346.000000  34129.000000  34041.000000  33288.000000   \n",
              "mean      82.773611    110.060391     17.375901     59.305833   1262.945145   \n",
              "std       82.135694     95.223005     22.823017     37.116200   1221.436236   \n",
              "min        3.000000      2.000000      0.285600      2.000000    100.000000   \n",
              "25%       22.000000     38.000000      3.000000     30.000000    500.000000   \n",
              "50%       58.000000     87.000000      9.000000     53.000000    900.000000   \n",
              "75%      114.000000    155.000000     21.000000     82.000000   1500.000000   \n",
              "max      898.000000    984.000000    341.000000    290.000000  10000.000000   \n",
              "\n",
              "                 O3          TEMP          PRES          DEWP          RAIN  \\\n",
              "count  33345.000000  35044.000000  35044.000000  35044.000000  35044.000000   \n",
              "mean      56.353358     13.584607   1011.846920      3.123062      0.067421   \n",
              "std       57.916327     11.399097     10.404047     13.688896      0.910056   \n",
              "min        0.214200    -16.800000    985.900000    -35.300000      0.000000   \n",
              "25%        8.000000      3.100000   1003.300000     -8.100000      0.000000   \n",
              "50%       42.000000     14.500000   1011.400000      3.800000      0.000000   \n",
              "75%       82.000000     23.300000   1020.100000     15.600000      0.000000   \n",
              "max      423.000000     40.500000   1042.000000     28.500000     72.500000   \n",
              "\n",
              "               WSPM  \n",
              "count  35050.000000  \n",
              "mean       1.708496  \n",
              "std        1.204071  \n",
              "min        0.000000  \n",
              "25%        0.900000  \n",
              "50%        1.400000  \n",
              "75%        2.200000  \n",
              "max       11.200000  "
            ],
            "text/html": [
              "\n",
              "  <div id=\"df-9413a58c-0230-4cd9-b834-a6f81072022b\" class=\"colab-df-container\">\n",
              "    <div>\n",
              "<style scoped>\n",
              "    .dataframe tbody tr th:only-of-type {\n",
              "        vertical-align: middle;\n",
              "    }\n",
              "\n",
              "    .dataframe tbody tr th {\n",
              "        vertical-align: top;\n",
              "    }\n",
              "\n",
              "    .dataframe thead th {\n",
              "        text-align: right;\n",
              "    }\n",
              "</style>\n",
              "<table border=\"1\" class=\"dataframe\">\n",
              "  <thead>\n",
              "    <tr style=\"text-align: right;\">\n",
              "      <th></th>\n",
              "      <th>No</th>\n",
              "      <th>year</th>\n",
              "      <th>month</th>\n",
              "      <th>day</th>\n",
              "      <th>hour</th>\n",
              "      <th>PM2.5</th>\n",
              "      <th>PM10</th>\n",
              "      <th>SO2</th>\n",
              "      <th>NO2</th>\n",
              "      <th>CO</th>\n",
              "      <th>O3</th>\n",
              "      <th>TEMP</th>\n",
              "      <th>PRES</th>\n",
              "      <th>DEWP</th>\n",
              "      <th>RAIN</th>\n",
              "      <th>WSPM</th>\n",
              "    </tr>\n",
              "  </thead>\n",
              "  <tbody>\n",
              "    <tr>\n",
              "      <th>count</th>\n",
              "      <td>35064.000000</td>\n",
              "      <td>35064.000000</td>\n",
              "      <td>35064.000000</td>\n",
              "      <td>35064.000000</td>\n",
              "      <td>35064.000000</td>\n",
              "      <td>34139.000000</td>\n",
              "      <td>34346.000000</td>\n",
              "      <td>34129.000000</td>\n",
              "      <td>34041.000000</td>\n",
              "      <td>33288.000000</td>\n",
              "      <td>33345.000000</td>\n",
              "      <td>35044.000000</td>\n",
              "      <td>35044.000000</td>\n",
              "      <td>35044.000000</td>\n",
              "      <td>35044.000000</td>\n",
              "      <td>35050.000000</td>\n",
              "    </tr>\n",
              "    <tr>\n",
              "      <th>mean</th>\n",
              "      <td>17532.500000</td>\n",
              "      <td>2014.662560</td>\n",
              "      <td>6.522930</td>\n",
              "      <td>15.729637</td>\n",
              "      <td>11.500000</td>\n",
              "      <td>82.773611</td>\n",
              "      <td>110.060391</td>\n",
              "      <td>17.375901</td>\n",
              "      <td>59.305833</td>\n",
              "      <td>1262.945145</td>\n",
              "      <td>56.353358</td>\n",
              "      <td>13.584607</td>\n",
              "      <td>1011.846920</td>\n",
              "      <td>3.123062</td>\n",
              "      <td>0.067421</td>\n",
              "      <td>1.708496</td>\n",
              "    </tr>\n",
              "    <tr>\n",
              "      <th>std</th>\n",
              "      <td>10122.249256</td>\n",
              "      <td>1.177213</td>\n",
              "      <td>3.448752</td>\n",
              "      <td>8.800218</td>\n",
              "      <td>6.922285</td>\n",
              "      <td>82.135694</td>\n",
              "      <td>95.223005</td>\n",
              "      <td>22.823017</td>\n",
              "      <td>37.116200</td>\n",
              "      <td>1221.436236</td>\n",
              "      <td>57.916327</td>\n",
              "      <td>11.399097</td>\n",
              "      <td>10.404047</td>\n",
              "      <td>13.688896</td>\n",
              "      <td>0.910056</td>\n",
              "      <td>1.204071</td>\n",
              "    </tr>\n",
              "    <tr>\n",
              "      <th>min</th>\n",
              "      <td>1.000000</td>\n",
              "      <td>2013.000000</td>\n",
              "      <td>1.000000</td>\n",
              "      <td>1.000000</td>\n",
              "      <td>0.000000</td>\n",
              "      <td>3.000000</td>\n",
              "      <td>2.000000</td>\n",
              "      <td>0.285600</td>\n",
              "      <td>2.000000</td>\n",
              "      <td>100.000000</td>\n",
              "      <td>0.214200</td>\n",
              "      <td>-16.800000</td>\n",
              "      <td>985.900000</td>\n",
              "      <td>-35.300000</td>\n",
              "      <td>0.000000</td>\n",
              "      <td>0.000000</td>\n",
              "    </tr>\n",
              "    <tr>\n",
              "      <th>25%</th>\n",
              "      <td>8766.750000</td>\n",
              "      <td>2014.000000</td>\n",
              "      <td>4.000000</td>\n",
              "      <td>8.000000</td>\n",
              "      <td>5.750000</td>\n",
              "      <td>22.000000</td>\n",
              "      <td>38.000000</td>\n",
              "      <td>3.000000</td>\n",
              "      <td>30.000000</td>\n",
              "      <td>500.000000</td>\n",
              "      <td>8.000000</td>\n",
              "      <td>3.100000</td>\n",
              "      <td>1003.300000</td>\n",
              "      <td>-8.100000</td>\n",
              "      <td>0.000000</td>\n",
              "      <td>0.900000</td>\n",
              "    </tr>\n",
              "    <tr>\n",
              "      <th>50%</th>\n",
              "      <td>17532.500000</td>\n",
              "      <td>2015.000000</td>\n",
              "      <td>7.000000</td>\n",
              "      <td>16.000000</td>\n",
              "      <td>11.500000</td>\n",
              "      <td>58.000000</td>\n",
              "      <td>87.000000</td>\n",
              "      <td>9.000000</td>\n",
              "      <td>53.000000</td>\n",
              "      <td>900.000000</td>\n",
              "      <td>42.000000</td>\n",
              "      <td>14.500000</td>\n",
              "      <td>1011.400000</td>\n",
              "      <td>3.800000</td>\n",
              "      <td>0.000000</td>\n",
              "      <td>1.400000</td>\n",
              "    </tr>\n",
              "    <tr>\n",
              "      <th>75%</th>\n",
              "      <td>26298.250000</td>\n",
              "      <td>2016.000000</td>\n",
              "      <td>10.000000</td>\n",
              "      <td>23.000000</td>\n",
              "      <td>17.250000</td>\n",
              "      <td>114.000000</td>\n",
              "      <td>155.000000</td>\n",
              "      <td>21.000000</td>\n",
              "      <td>82.000000</td>\n",
              "      <td>1500.000000</td>\n",
              "      <td>82.000000</td>\n",
              "      <td>23.300000</td>\n",
              "      <td>1020.100000</td>\n",
              "      <td>15.600000</td>\n",
              "      <td>0.000000</td>\n",
              "      <td>2.200000</td>\n",
              "    </tr>\n",
              "    <tr>\n",
              "      <th>max</th>\n",
              "      <td>35064.000000</td>\n",
              "      <td>2017.000000</td>\n",
              "      <td>12.000000</td>\n",
              "      <td>31.000000</td>\n",
              "      <td>23.000000</td>\n",
              "      <td>898.000000</td>\n",
              "      <td>984.000000</td>\n",
              "      <td>341.000000</td>\n",
              "      <td>290.000000</td>\n",
              "      <td>10000.000000</td>\n",
              "      <td>423.000000</td>\n",
              "      <td>40.500000</td>\n",
              "      <td>1042.000000</td>\n",
              "      <td>28.500000</td>\n",
              "      <td>72.500000</td>\n",
              "      <td>11.200000</td>\n",
              "    </tr>\n",
              "  </tbody>\n",
              "</table>\n",
              "</div>\n",
              "    <div class=\"colab-df-buttons\">\n",
              "\n",
              "  <div class=\"colab-df-container\">\n",
              "    <button class=\"colab-df-convert\" onclick=\"convertToInteractive('df-9413a58c-0230-4cd9-b834-a6f81072022b')\"\n",
              "            title=\"Convert this dataframe to an interactive table.\"\n",
              "            style=\"display:none;\">\n",
              "\n",
              "  <svg xmlns=\"http://www.w3.org/2000/svg\" height=\"24px\" viewBox=\"0 -960 960 960\">\n",
              "    <path d=\"M120-120v-720h720v720H120Zm60-500h600v-160H180v160Zm220 220h160v-160H400v160Zm0 220h160v-160H400v160ZM180-400h160v-160H180v160Zm440 0h160v-160H620v160ZM180-180h160v-160H180v160Zm440 0h160v-160H620v160Z\"/>\n",
              "  </svg>\n",
              "    </button>\n",
              "\n",
              "  <style>\n",
              "    .colab-df-container {\n",
              "      display:flex;\n",
              "      gap: 12px;\n",
              "    }\n",
              "\n",
              "    .colab-df-convert {\n",
              "      background-color: #E8F0FE;\n",
              "      border: none;\n",
              "      border-radius: 50%;\n",
              "      cursor: pointer;\n",
              "      display: none;\n",
              "      fill: #1967D2;\n",
              "      height: 32px;\n",
              "      padding: 0 0 0 0;\n",
              "      width: 32px;\n",
              "    }\n",
              "\n",
              "    .colab-df-convert:hover {\n",
              "      background-color: #E2EBFA;\n",
              "      box-shadow: 0px 1px 2px rgba(60, 64, 67, 0.3), 0px 1px 3px 1px rgba(60, 64, 67, 0.15);\n",
              "      fill: #174EA6;\n",
              "    }\n",
              "\n",
              "    .colab-df-buttons div {\n",
              "      margin-bottom: 4px;\n",
              "    }\n",
              "\n",
              "    [theme=dark] .colab-df-convert {\n",
              "      background-color: #3B4455;\n",
              "      fill: #D2E3FC;\n",
              "    }\n",
              "\n",
              "    [theme=dark] .colab-df-convert:hover {\n",
              "      background-color: #434B5C;\n",
              "      box-shadow: 0px 1px 3px 1px rgba(0, 0, 0, 0.15);\n",
              "      filter: drop-shadow(0px 1px 2px rgba(0, 0, 0, 0.3));\n",
              "      fill: #FFFFFF;\n",
              "    }\n",
              "  </style>\n",
              "\n",
              "    <script>\n",
              "      const buttonEl =\n",
              "        document.querySelector('#df-9413a58c-0230-4cd9-b834-a6f81072022b button.colab-df-convert');\n",
              "      buttonEl.style.display =\n",
              "        google.colab.kernel.accessAllowed ? 'block' : 'none';\n",
              "\n",
              "      async function convertToInteractive(key) {\n",
              "        const element = document.querySelector('#df-9413a58c-0230-4cd9-b834-a6f81072022b');\n",
              "        const dataTable =\n",
              "          await google.colab.kernel.invokeFunction('convertToInteractive',\n",
              "                                                    [key], {});\n",
              "        if (!dataTable) return;\n",
              "\n",
              "        const docLinkHtml = 'Like what you see? Visit the ' +\n",
              "          '<a target=\"_blank\" href=https://colab.research.google.com/notebooks/data_table.ipynb>data table notebook</a>'\n",
              "          + ' to learn more about interactive tables.';\n",
              "        element.innerHTML = '';\n",
              "        dataTable['output_type'] = 'display_data';\n",
              "        await google.colab.output.renderOutput(dataTable, element);\n",
              "        const docLink = document.createElement('div');\n",
              "        docLink.innerHTML = docLinkHtml;\n",
              "        element.appendChild(docLink);\n",
              "      }\n",
              "    </script>\n",
              "  </div>\n",
              "\n",
              "\n",
              "<div id=\"df-7e68e694-9428-420c-b3b9-72cada8d1abe\">\n",
              "  <button class=\"colab-df-quickchart\" onclick=\"quickchart('df-7e68e694-9428-420c-b3b9-72cada8d1abe')\"\n",
              "            title=\"Suggest charts\"\n",
              "            style=\"display:none;\">\n",
              "\n",
              "<svg xmlns=\"http://www.w3.org/2000/svg\" height=\"24px\"viewBox=\"0 0 24 24\"\n",
              "     width=\"24px\">\n",
              "    <g>\n",
              "        <path d=\"M19 3H5c-1.1 0-2 .9-2 2v14c0 1.1.9 2 2 2h14c1.1 0 2-.9 2-2V5c0-1.1-.9-2-2-2zM9 17H7v-7h2v7zm4 0h-2V7h2v10zm4 0h-2v-4h2v4z\"/>\n",
              "    </g>\n",
              "</svg>\n",
              "  </button>\n",
              "\n",
              "<style>\n",
              "  .colab-df-quickchart {\n",
              "      --bg-color: #E8F0FE;\n",
              "      --fill-color: #1967D2;\n",
              "      --hover-bg-color: #E2EBFA;\n",
              "      --hover-fill-color: #174EA6;\n",
              "      --disabled-fill-color: #AAA;\n",
              "      --disabled-bg-color: #DDD;\n",
              "  }\n",
              "\n",
              "  [theme=dark] .colab-df-quickchart {\n",
              "      --bg-color: #3B4455;\n",
              "      --fill-color: #D2E3FC;\n",
              "      --hover-bg-color: #434B5C;\n",
              "      --hover-fill-color: #FFFFFF;\n",
              "      --disabled-bg-color: #3B4455;\n",
              "      --disabled-fill-color: #666;\n",
              "  }\n",
              "\n",
              "  .colab-df-quickchart {\n",
              "    background-color: var(--bg-color);\n",
              "    border: none;\n",
              "    border-radius: 50%;\n",
              "    cursor: pointer;\n",
              "    display: none;\n",
              "    fill: var(--fill-color);\n",
              "    height: 32px;\n",
              "    padding: 0;\n",
              "    width: 32px;\n",
              "  }\n",
              "\n",
              "  .colab-df-quickchart:hover {\n",
              "    background-color: var(--hover-bg-color);\n",
              "    box-shadow: 0 1px 2px rgba(60, 64, 67, 0.3), 0 1px 3px 1px rgba(60, 64, 67, 0.15);\n",
              "    fill: var(--button-hover-fill-color);\n",
              "  }\n",
              "\n",
              "  .colab-df-quickchart-complete:disabled,\n",
              "  .colab-df-quickchart-complete:disabled:hover {\n",
              "    background-color: var(--disabled-bg-color);\n",
              "    fill: var(--disabled-fill-color);\n",
              "    box-shadow: none;\n",
              "  }\n",
              "\n",
              "  .colab-df-spinner {\n",
              "    border: 2px solid var(--fill-color);\n",
              "    border-color: transparent;\n",
              "    border-bottom-color: var(--fill-color);\n",
              "    animation:\n",
              "      spin 1s steps(1) infinite;\n",
              "  }\n",
              "\n",
              "  @keyframes spin {\n",
              "    0% {\n",
              "      border-color: transparent;\n",
              "      border-bottom-color: var(--fill-color);\n",
              "      border-left-color: var(--fill-color);\n",
              "    }\n",
              "    20% {\n",
              "      border-color: transparent;\n",
              "      border-left-color: var(--fill-color);\n",
              "      border-top-color: var(--fill-color);\n",
              "    }\n",
              "    30% {\n",
              "      border-color: transparent;\n",
              "      border-left-color: var(--fill-color);\n",
              "      border-top-color: var(--fill-color);\n",
              "      border-right-color: var(--fill-color);\n",
              "    }\n",
              "    40% {\n",
              "      border-color: transparent;\n",
              "      border-right-color: var(--fill-color);\n",
              "      border-top-color: var(--fill-color);\n",
              "    }\n",
              "    60% {\n",
              "      border-color: transparent;\n",
              "      border-right-color: var(--fill-color);\n",
              "    }\n",
              "    80% {\n",
              "      border-color: transparent;\n",
              "      border-right-color: var(--fill-color);\n",
              "      border-bottom-color: var(--fill-color);\n",
              "    }\n",
              "    90% {\n",
              "      border-color: transparent;\n",
              "      border-bottom-color: var(--fill-color);\n",
              "    }\n",
              "  }\n",
              "</style>\n",
              "\n",
              "  <script>\n",
              "    async function quickchart(key) {\n",
              "      const quickchartButtonEl =\n",
              "        document.querySelector('#' + key + ' button');\n",
              "      quickchartButtonEl.disabled = true;  // To prevent multiple clicks.\n",
              "      quickchartButtonEl.classList.add('colab-df-spinner');\n",
              "      try {\n",
              "        const charts = await google.colab.kernel.invokeFunction(\n",
              "            'suggestCharts', [key], {});\n",
              "      } catch (error) {\n",
              "        console.error('Error during call to suggestCharts:', error);\n",
              "      }\n",
              "      quickchartButtonEl.classList.remove('colab-df-spinner');\n",
              "      quickchartButtonEl.classList.add('colab-df-quickchart-complete');\n",
              "    }\n",
              "    (() => {\n",
              "      let quickchartButtonEl =\n",
              "        document.querySelector('#df-7e68e694-9428-420c-b3b9-72cada8d1abe button');\n",
              "      quickchartButtonEl.style.display =\n",
              "        google.colab.kernel.accessAllowed ? 'block' : 'none';\n",
              "    })();\n",
              "  </script>\n",
              "</div>\n",
              "    </div>\n",
              "  </div>\n"
            ]
          },
          "metadata": {},
          "execution_count": 8
        }
      ],
      "source": [
        "data_udara.describe()"
      ]
    },
    {
      "cell_type": "markdown",
      "metadata": {
        "id": "2Qhk3T3RicOF"
      },
      "source": [
        "Jika kita lihat pada kolom TEMP terdapat nilai minus, tidak perlu panik tetap tenang, hal ini dapat terjadi karena kolom ini berisi nilai suhu, seperti yang kita ketahui suhu udara bisa turun di bawah 0 derajat, untuk kolom DEWP berisi nilai suhu titik embun dimana terjadi perubahan uap air menjadi air biasanya terjadi jika suhu berada cukup rendah."
      ]
    },
    {
      "cell_type": "markdown",
      "metadata": {
        "id": "Uz5dgcJm9HW5"
      },
      "source": [
        "### Cleaning Data"
      ]
    },
    {
      "cell_type": "markdown",
      "metadata": {
        "id": "t5rSOqfbkfSO"
      },
      "source": [
        "Kita akan mengubah terlebih dahulu nama kolom PM2.5 hal ini karena akan mengakibatkan error. Kita akan mengubahnya dengan method `.rename(columns={\"OLD_COLUMN_VALUE\": \"NEW_COLUMN_VALUE\"}, inplace=True)` dengan menggunakan tambahan parameter `inplace=True` berfungsi mempertahankan perubahan terhadap data_udara kita."
      ]
    },
    {
      "cell_type": "code",
      "execution_count": 9,
      "metadata": {
        "id": "2jiUspQTkyYg"
      },
      "outputs": [],
      "source": [
        "data_udara.rename(columns={\"PM2.5\": \"PM25\"}, inplace=True)"
      ]
    },
    {
      "cell_type": "markdown",
      "metadata": {
        "id": "VoXKRUZXnvDO"
      },
      "source": [
        "Selanjutnya kita akan mengisi nilai yang kosong tersebut dengan nilai rata-rata dari kolom tersebut dengan menggunakan method `fillna()` untuk mendapatkan nilai rata-rata kita bisa menggunakan method `.mean()`. Namun method `fillna()` hanya dapat digunakan pada tipe data numerik saja, jadi untuk kolom `wd` tidak akan kita ikutkan proses ini."
      ]
    },
    {
      "cell_type": "code",
      "execution_count": 10,
      "metadata": {
        "id": "1raCL8K6ors6"
      },
      "outputs": [],
      "source": [
        "# Kolom PM25\n",
        "data_udara['PM25'].fillna(data_udara['PM10'].mean(), inplace=True)\n",
        "\n",
        "# Kolom PM10\n",
        "data_udara['PM10'].fillna(data_udara['PM10'].mean(), inplace=True)\n",
        "\n",
        "# Kolom SO2\n",
        "data_udara['SO2'].fillna(data_udara['SO2'].mean(), inplace=True)\n",
        "\n",
        "# Kolom NO2\n",
        "data_udara['NO2'].fillna(data_udara['NO2'].mean(), inplace=True)\n",
        "\n",
        "# Kolom CO\n",
        "data_udara['CO'].fillna(data_udara['CO'].mean(), inplace=True)\n",
        "\n",
        "# Kolom O3\n",
        "data_udara['O3'].fillna(data_udara['O3'].mean(), inplace=True)\n",
        "\n",
        "# Kolom TEMP\n",
        "data_udara['TEMP'].fillna(data_udara['TEMP'].mean(), inplace=True)\n",
        "\n",
        "# Kolom PRES\n",
        "data_udara['PRES'].fillna(data_udara['PRES'].mean(), inplace=True)\n",
        "\n",
        "# Kolom DEWP\n",
        "data_udara['DEWP'].fillna(data_udara['DEWP'].mean(), inplace=True)\n",
        "\n",
        "# Kolom RAIN\n",
        "data_udara['RAIN'].fillna(data_udara['RAIN'].mean(), inplace=True)\n",
        "\n",
        "# Kolom WSPM\n",
        "data_udara['WSPM'].fillna(data_udara['WSPM'].mean(), inplace=True)\n"
      ]
    },
    {
      "cell_type": "code",
      "source": [
        "data_udara.rename(columns={\"PM25\": \"PM2.5\"}, inplace=True)"
      ],
      "metadata": {
        "id": "4xP1woOnBo4Q"
      },
      "execution_count": 11,
      "outputs": []
    },
    {
      "cell_type": "markdown",
      "metadata": {
        "id": "SpaazNHqBwta"
      },
      "source": [
        "Jika sudah kita cek lagi untuk memastikan."
      ]
    },
    {
      "cell_type": "code",
      "execution_count": 12,
      "metadata": {
        "colab": {
          "base_uri": "https://localhost:8080/"
        },
        "id": "M6CtO2cfIf8j",
        "outputId": "ed18ce83-74ad-4ab3-af58-a124d99a7716"
      },
      "outputs": [
        {
          "output_type": "execute_result",
          "data": {
            "text/plain": [
              "No          0\n",
              "year        0\n",
              "month       0\n",
              "day         0\n",
              "hour        0\n",
              "PM2.5       0\n",
              "PM10        0\n",
              "SO2         0\n",
              "NO2         0\n",
              "CO          0\n",
              "O3          0\n",
              "TEMP        0\n",
              "PRES        0\n",
              "DEWP        0\n",
              "RAIN        0\n",
              "wd         81\n",
              "WSPM        0\n",
              "station     0\n",
              "dtype: int64"
            ]
          },
          "metadata": {},
          "execution_count": 12
        }
      ],
      "source": [
        "data_udara.isna().sum()"
      ]
    },
    {
      "cell_type": "markdown",
      "metadata": {
        "id": "oZ5-mfFQCD36"
      },
      "source": [
        "Hasilnya hanya tinggal kolom `wd`, karena `wd` bertipe kategorikal, untuk mengatasi nilai yang kosong di kolom `wd` kita akan menggunakan mthod `value_counts()` yang akan mengidentifikasi nilai yang dominan."
      ]
    },
    {
      "cell_type": "code",
      "execution_count": 13,
      "metadata": {
        "colab": {
          "base_uri": "https://localhost:8080/"
        },
        "id": "l1NWGNeOCu4c",
        "outputId": "064dc231-4745-4d4b-d31f-a84de2ae5931"
      },
      "outputs": [
        {
          "output_type": "execute_result",
          "data": {
            "text/plain": [
              "NE     5140\n",
              "ENE    3950\n",
              "SW     3359\n",
              "E      2608\n",
              "NNE    2445\n",
              "WSW    2212\n",
              "SSW    2098\n",
              "N      2066\n",
              "NW     1860\n",
              "ESE    1717\n",
              "NNW    1589\n",
              "SE     1341\n",
              "S      1304\n",
              "W      1171\n",
              "WNW    1101\n",
              "SSE    1022\n",
              "Name: wd, dtype: int64"
            ]
          },
          "metadata": {},
          "execution_count": 13
        }
      ],
      "source": [
        "data_udara.wd.value_counts()"
      ]
    },
    {
      "cell_type": "markdown",
      "metadata": {
        "id": "rzAwzEhqDfUZ"
      },
      "source": [
        "Hasilnya nilai paling dominan adalah `NE` nah nilai inilah yang akan kita masukkan untuk mengisi nilai yang kosong masih menggunakan method `fillna()` kita beri parameter `value=\"NE\"` karena nilai `NE` inilah yang akan kita masukkan ke dalam data yang kosang."
      ]
    },
    {
      "cell_type": "code",
      "execution_count": 14,
      "metadata": {
        "id": "P8eRAyW3DBpr"
      },
      "outputs": [],
      "source": [
        "data_udara.fillna(value=\"NE\", inplace=True)"
      ]
    },
    {
      "cell_type": "markdown",
      "metadata": {
        "id": "k31hA_b0EUQN"
      },
      "source": [
        "Jika sudah kita lihat lagi apakah masih ada data yang kosong."
      ]
    },
    {
      "cell_type": "code",
      "execution_count": 15,
      "metadata": {
        "colab": {
          "base_uri": "https://localhost:8080/"
        },
        "id": "X7m8-zUDDVSO",
        "outputId": "a83ea044-22aa-4757-94cf-4cd3d507d472"
      },
      "outputs": [
        {
          "output_type": "execute_result",
          "data": {
            "text/plain": [
              "No         0\n",
              "year       0\n",
              "month      0\n",
              "day        0\n",
              "hour       0\n",
              "PM2.5      0\n",
              "PM10       0\n",
              "SO2        0\n",
              "NO2        0\n",
              "CO         0\n",
              "O3         0\n",
              "TEMP       0\n",
              "PRES       0\n",
              "DEWP       0\n",
              "RAIN       0\n",
              "wd         0\n",
              "WSPM       0\n",
              "station    0\n",
              "dtype: int64"
            ]
          },
          "metadata": {},
          "execution_count": 15
        }
      ],
      "source": [
        "data_udara.isna().sum()"
      ]
    },
    {
      "cell_type": "markdown",
      "metadata": {
        "id": "rZN9doeuEfum"
      },
      "source": [
        "Dan berdasar hasil diatas semua data kita sudah terbebas dari nilai kosong."
      ]
    },
    {
      "cell_type": "markdown",
      "metadata": {
        "id": "EyPJaCDm9KFb"
      },
      "source": [
        "## Exploratory Data Analysis (EDA)"
      ]
    },
    {
      "cell_type": "markdown",
      "metadata": {
        "id": "hxgJ6qd69Mce"
      },
      "source": [
        "### Explore\n",
        "Tahap ini kita akan meng-*Explore* `data_udara` berdasarkan pertanyaan yang sudah kita definisikan diatas."
      ]
    },
    {
      "cell_type": "markdown",
      "metadata": {
        "id": "fKi5NL8aIg1q"
      },
      "source": [
        "1. Apakah Curah Hujan memengaruhi kadar PM2.5, PM10, SO2, NO2, CO dan O3.\n",
        "\n",
        "Untuk mengetahuinya kita akan menggunakan method `.corr()` yang akan menghitung nilai korelasi/hubungan sebab akibat antar kolom yang kita inputkan dengan standar semakin mendekati nilai 1 atau -1 maka korelasinya akan semakin besar, begitupun sebaliknya jika mendekati 0 maka korelasinya semakin lemah."
      ]
    },
    {
      "cell_type": "code",
      "execution_count": 16,
      "metadata": {
        "colab": {
          "base_uri": "https://localhost:8080/",
          "height": 269
        },
        "id": "Xo68yguo9LTl",
        "outputId": "0bc81625-c4c9-48aa-97c8-2216da3abbe5"
      },
      "outputs": [
        {
          "output_type": "execute_result",
          "data": {
            "text/plain": [
              "       RAIN  PM2.5  PM10   SO2   NO2    CO    O3\n",
              "RAIN   1.00  -0.01 -0.03 -0.04 -0.04 -0.02  0.02\n",
              "PM2.5 -0.01   1.00  0.87  0.48  0.68  0.75 -0.16\n",
              "PM10  -0.03   0.87  1.00  0.46  0.65  0.66 -0.14\n",
              "SO2   -0.04   0.48  0.46  1.00  0.43  0.53 -0.20\n",
              "NO2   -0.04   0.68  0.65  0.43  1.00  0.68 -0.49\n",
              "CO    -0.02   0.75  0.66  0.53  0.68  1.00 -0.32\n",
              "O3     0.02  -0.16 -0.14 -0.20 -0.49 -0.32  1.00"
            ],
            "text/html": [
              "\n",
              "  <div id=\"df-e3cd3b57-2ea8-4ce0-bc3e-6ea966295b51\" class=\"colab-df-container\">\n",
              "    <div>\n",
              "<style scoped>\n",
              "    .dataframe tbody tr th:only-of-type {\n",
              "        vertical-align: middle;\n",
              "    }\n",
              "\n",
              "    .dataframe tbody tr th {\n",
              "        vertical-align: top;\n",
              "    }\n",
              "\n",
              "    .dataframe thead th {\n",
              "        text-align: right;\n",
              "    }\n",
              "</style>\n",
              "<table border=\"1\" class=\"dataframe\">\n",
              "  <thead>\n",
              "    <tr style=\"text-align: right;\">\n",
              "      <th></th>\n",
              "      <th>RAIN</th>\n",
              "      <th>PM2.5</th>\n",
              "      <th>PM10</th>\n",
              "      <th>SO2</th>\n",
              "      <th>NO2</th>\n",
              "      <th>CO</th>\n",
              "      <th>O3</th>\n",
              "    </tr>\n",
              "  </thead>\n",
              "  <tbody>\n",
              "    <tr>\n",
              "      <th>RAIN</th>\n",
              "      <td>1.00</td>\n",
              "      <td>-0.01</td>\n",
              "      <td>-0.03</td>\n",
              "      <td>-0.04</td>\n",
              "      <td>-0.04</td>\n",
              "      <td>-0.02</td>\n",
              "      <td>0.02</td>\n",
              "    </tr>\n",
              "    <tr>\n",
              "      <th>PM2.5</th>\n",
              "      <td>-0.01</td>\n",
              "      <td>1.00</td>\n",
              "      <td>0.87</td>\n",
              "      <td>0.48</td>\n",
              "      <td>0.68</td>\n",
              "      <td>0.75</td>\n",
              "      <td>-0.16</td>\n",
              "    </tr>\n",
              "    <tr>\n",
              "      <th>PM10</th>\n",
              "      <td>-0.03</td>\n",
              "      <td>0.87</td>\n",
              "      <td>1.00</td>\n",
              "      <td>0.46</td>\n",
              "      <td>0.65</td>\n",
              "      <td>0.66</td>\n",
              "      <td>-0.14</td>\n",
              "    </tr>\n",
              "    <tr>\n",
              "      <th>SO2</th>\n",
              "      <td>-0.04</td>\n",
              "      <td>0.48</td>\n",
              "      <td>0.46</td>\n",
              "      <td>1.00</td>\n",
              "      <td>0.43</td>\n",
              "      <td>0.53</td>\n",
              "      <td>-0.20</td>\n",
              "    </tr>\n",
              "    <tr>\n",
              "      <th>NO2</th>\n",
              "      <td>-0.04</td>\n",
              "      <td>0.68</td>\n",
              "      <td>0.65</td>\n",
              "      <td>0.43</td>\n",
              "      <td>1.00</td>\n",
              "      <td>0.68</td>\n",
              "      <td>-0.49</td>\n",
              "    </tr>\n",
              "    <tr>\n",
              "      <th>CO</th>\n",
              "      <td>-0.02</td>\n",
              "      <td>0.75</td>\n",
              "      <td>0.66</td>\n",
              "      <td>0.53</td>\n",
              "      <td>0.68</td>\n",
              "      <td>1.00</td>\n",
              "      <td>-0.32</td>\n",
              "    </tr>\n",
              "    <tr>\n",
              "      <th>O3</th>\n",
              "      <td>0.02</td>\n",
              "      <td>-0.16</td>\n",
              "      <td>-0.14</td>\n",
              "      <td>-0.20</td>\n",
              "      <td>-0.49</td>\n",
              "      <td>-0.32</td>\n",
              "      <td>1.00</td>\n",
              "    </tr>\n",
              "  </tbody>\n",
              "</table>\n",
              "</div>\n",
              "    <div class=\"colab-df-buttons\">\n",
              "\n",
              "  <div class=\"colab-df-container\">\n",
              "    <button class=\"colab-df-convert\" onclick=\"convertToInteractive('df-e3cd3b57-2ea8-4ce0-bc3e-6ea966295b51')\"\n",
              "            title=\"Convert this dataframe to an interactive table.\"\n",
              "            style=\"display:none;\">\n",
              "\n",
              "  <svg xmlns=\"http://www.w3.org/2000/svg\" height=\"24px\" viewBox=\"0 -960 960 960\">\n",
              "    <path d=\"M120-120v-720h720v720H120Zm60-500h600v-160H180v160Zm220 220h160v-160H400v160Zm0 220h160v-160H400v160ZM180-400h160v-160H180v160Zm440 0h160v-160H620v160ZM180-180h160v-160H180v160Zm440 0h160v-160H620v160Z\"/>\n",
              "  </svg>\n",
              "    </button>\n",
              "\n",
              "  <style>\n",
              "    .colab-df-container {\n",
              "      display:flex;\n",
              "      gap: 12px;\n",
              "    }\n",
              "\n",
              "    .colab-df-convert {\n",
              "      background-color: #E8F0FE;\n",
              "      border: none;\n",
              "      border-radius: 50%;\n",
              "      cursor: pointer;\n",
              "      display: none;\n",
              "      fill: #1967D2;\n",
              "      height: 32px;\n",
              "      padding: 0 0 0 0;\n",
              "      width: 32px;\n",
              "    }\n",
              "\n",
              "    .colab-df-convert:hover {\n",
              "      background-color: #E2EBFA;\n",
              "      box-shadow: 0px 1px 2px rgba(60, 64, 67, 0.3), 0px 1px 3px 1px rgba(60, 64, 67, 0.15);\n",
              "      fill: #174EA6;\n",
              "    }\n",
              "\n",
              "    .colab-df-buttons div {\n",
              "      margin-bottom: 4px;\n",
              "    }\n",
              "\n",
              "    [theme=dark] .colab-df-convert {\n",
              "      background-color: #3B4455;\n",
              "      fill: #D2E3FC;\n",
              "    }\n",
              "\n",
              "    [theme=dark] .colab-df-convert:hover {\n",
              "      background-color: #434B5C;\n",
              "      box-shadow: 0px 1px 3px 1px rgba(0, 0, 0, 0.15);\n",
              "      filter: drop-shadow(0px 1px 2px rgba(0, 0, 0, 0.3));\n",
              "      fill: #FFFFFF;\n",
              "    }\n",
              "  </style>\n",
              "\n",
              "    <script>\n",
              "      const buttonEl =\n",
              "        document.querySelector('#df-e3cd3b57-2ea8-4ce0-bc3e-6ea966295b51 button.colab-df-convert');\n",
              "      buttonEl.style.display =\n",
              "        google.colab.kernel.accessAllowed ? 'block' : 'none';\n",
              "\n",
              "      async function convertToInteractive(key) {\n",
              "        const element = document.querySelector('#df-e3cd3b57-2ea8-4ce0-bc3e-6ea966295b51');\n",
              "        const dataTable =\n",
              "          await google.colab.kernel.invokeFunction('convertToInteractive',\n",
              "                                                    [key], {});\n",
              "        if (!dataTable) return;\n",
              "\n",
              "        const docLinkHtml = 'Like what you see? Visit the ' +\n",
              "          '<a target=\"_blank\" href=https://colab.research.google.com/notebooks/data_table.ipynb>data table notebook</a>'\n",
              "          + ' to learn more about interactive tables.';\n",
              "        element.innerHTML = '';\n",
              "        dataTable['output_type'] = 'display_data';\n",
              "        await google.colab.output.renderOutput(dataTable, element);\n",
              "        const docLink = document.createElement('div');\n",
              "        docLink.innerHTML = docLinkHtml;\n",
              "        element.appendChild(docLink);\n",
              "      }\n",
              "    </script>\n",
              "  </div>\n",
              "\n",
              "\n",
              "<div id=\"df-0d86678d-7fc9-4c23-bf75-938f86cf0f34\">\n",
              "  <button class=\"colab-df-quickchart\" onclick=\"quickchart('df-0d86678d-7fc9-4c23-bf75-938f86cf0f34')\"\n",
              "            title=\"Suggest charts\"\n",
              "            style=\"display:none;\">\n",
              "\n",
              "<svg xmlns=\"http://www.w3.org/2000/svg\" height=\"24px\"viewBox=\"0 0 24 24\"\n",
              "     width=\"24px\">\n",
              "    <g>\n",
              "        <path d=\"M19 3H5c-1.1 0-2 .9-2 2v14c0 1.1.9 2 2 2h14c1.1 0 2-.9 2-2V5c0-1.1-.9-2-2-2zM9 17H7v-7h2v7zm4 0h-2V7h2v10zm4 0h-2v-4h2v4z\"/>\n",
              "    </g>\n",
              "</svg>\n",
              "  </button>\n",
              "\n",
              "<style>\n",
              "  .colab-df-quickchart {\n",
              "      --bg-color: #E8F0FE;\n",
              "      --fill-color: #1967D2;\n",
              "      --hover-bg-color: #E2EBFA;\n",
              "      --hover-fill-color: #174EA6;\n",
              "      --disabled-fill-color: #AAA;\n",
              "      --disabled-bg-color: #DDD;\n",
              "  }\n",
              "\n",
              "  [theme=dark] .colab-df-quickchart {\n",
              "      --bg-color: #3B4455;\n",
              "      --fill-color: #D2E3FC;\n",
              "      --hover-bg-color: #434B5C;\n",
              "      --hover-fill-color: #FFFFFF;\n",
              "      --disabled-bg-color: #3B4455;\n",
              "      --disabled-fill-color: #666;\n",
              "  }\n",
              "\n",
              "  .colab-df-quickchart {\n",
              "    background-color: var(--bg-color);\n",
              "    border: none;\n",
              "    border-radius: 50%;\n",
              "    cursor: pointer;\n",
              "    display: none;\n",
              "    fill: var(--fill-color);\n",
              "    height: 32px;\n",
              "    padding: 0;\n",
              "    width: 32px;\n",
              "  }\n",
              "\n",
              "  .colab-df-quickchart:hover {\n",
              "    background-color: var(--hover-bg-color);\n",
              "    box-shadow: 0 1px 2px rgba(60, 64, 67, 0.3), 0 1px 3px 1px rgba(60, 64, 67, 0.15);\n",
              "    fill: var(--button-hover-fill-color);\n",
              "  }\n",
              "\n",
              "  .colab-df-quickchart-complete:disabled,\n",
              "  .colab-df-quickchart-complete:disabled:hover {\n",
              "    background-color: var(--disabled-bg-color);\n",
              "    fill: var(--disabled-fill-color);\n",
              "    box-shadow: none;\n",
              "  }\n",
              "\n",
              "  .colab-df-spinner {\n",
              "    border: 2px solid var(--fill-color);\n",
              "    border-color: transparent;\n",
              "    border-bottom-color: var(--fill-color);\n",
              "    animation:\n",
              "      spin 1s steps(1) infinite;\n",
              "  }\n",
              "\n",
              "  @keyframes spin {\n",
              "    0% {\n",
              "      border-color: transparent;\n",
              "      border-bottom-color: var(--fill-color);\n",
              "      border-left-color: var(--fill-color);\n",
              "    }\n",
              "    20% {\n",
              "      border-color: transparent;\n",
              "      border-left-color: var(--fill-color);\n",
              "      border-top-color: var(--fill-color);\n",
              "    }\n",
              "    30% {\n",
              "      border-color: transparent;\n",
              "      border-left-color: var(--fill-color);\n",
              "      border-top-color: var(--fill-color);\n",
              "      border-right-color: var(--fill-color);\n",
              "    }\n",
              "    40% {\n",
              "      border-color: transparent;\n",
              "      border-right-color: var(--fill-color);\n",
              "      border-top-color: var(--fill-color);\n",
              "    }\n",
              "    60% {\n",
              "      border-color: transparent;\n",
              "      border-right-color: var(--fill-color);\n",
              "    }\n",
              "    80% {\n",
              "      border-color: transparent;\n",
              "      border-right-color: var(--fill-color);\n",
              "      border-bottom-color: var(--fill-color);\n",
              "    }\n",
              "    90% {\n",
              "      border-color: transparent;\n",
              "      border-bottom-color: var(--fill-color);\n",
              "    }\n",
              "  }\n",
              "</style>\n",
              "\n",
              "  <script>\n",
              "    async function quickchart(key) {\n",
              "      const quickchartButtonEl =\n",
              "        document.querySelector('#' + key + ' button');\n",
              "      quickchartButtonEl.disabled = true;  // To prevent multiple clicks.\n",
              "      quickchartButtonEl.classList.add('colab-df-spinner');\n",
              "      try {\n",
              "        const charts = await google.colab.kernel.invokeFunction(\n",
              "            'suggestCharts', [key], {});\n",
              "      } catch (error) {\n",
              "        console.error('Error during call to suggestCharts:', error);\n",
              "      }\n",
              "      quickchartButtonEl.classList.remove('colab-df-spinner');\n",
              "      quickchartButtonEl.classList.add('colab-df-quickchart-complete');\n",
              "    }\n",
              "    (() => {\n",
              "      let quickchartButtonEl =\n",
              "        document.querySelector('#df-0d86678d-7fc9-4c23-bf75-938f86cf0f34 button');\n",
              "      quickchartButtonEl.style.display =\n",
              "        google.colab.kernel.accessAllowed ? 'block' : 'none';\n",
              "    })();\n",
              "  </script>\n",
              "</div>\n",
              "    </div>\n",
              "  </div>\n"
            ]
          },
          "metadata": {},
          "execution_count": 16
        }
      ],
      "source": [
        "\n",
        "correlation_matrix = data_udara[['RAIN', 'PM2.5', 'PM10', 'SO2', 'NO2', 'CO', 'O3']].corr().round(2) # .round(2) digunakan untuk menampikan hanya 2 angka di belakang koma\n",
        "correlation_matrix"
      ]
    },
    {
      "cell_type": "markdown",
      "metadata": {
        "id": "0HqcJD8yiJPt"
      },
      "source": [
        "Disini kita mendapat hasil bahwa curah hujan tidak memengaruhi semua kolom yang akan digunakan untuk menghitung tingkat kualitas udara."
      ]
    },
    {
      "cell_type": "markdown",
      "metadata": {
        "id": "L7E4bdhAITlq"
      },
      "source": [
        "2. Apakah Temperatur memengaruhi Suhu Titik Embun."
      ]
    },
    {
      "cell_type": "code",
      "execution_count": 17,
      "metadata": {
        "colab": {
          "base_uri": "https://localhost:8080/",
          "height": 112
        },
        "id": "rhxrn23_Q2h8",
        "outputId": "e8747fd6-9711-4fbb-8d15-74eba3fee4d2"
      },
      "outputs": [
        {
          "output_type": "execute_result",
          "data": {
            "text/plain": [
              "      TEMP  DEWP\n",
              "TEMP  1.00  0.82\n",
              "DEWP  0.82  1.00"
            ],
            "text/html": [
              "\n",
              "  <div id=\"df-fcb88a7d-19b5-4f91-a77c-7922fbfeaf3f\" class=\"colab-df-container\">\n",
              "    <div>\n",
              "<style scoped>\n",
              "    .dataframe tbody tr th:only-of-type {\n",
              "        vertical-align: middle;\n",
              "    }\n",
              "\n",
              "    .dataframe tbody tr th {\n",
              "        vertical-align: top;\n",
              "    }\n",
              "\n",
              "    .dataframe thead th {\n",
              "        text-align: right;\n",
              "    }\n",
              "</style>\n",
              "<table border=\"1\" class=\"dataframe\">\n",
              "  <thead>\n",
              "    <tr style=\"text-align: right;\">\n",
              "      <th></th>\n",
              "      <th>TEMP</th>\n",
              "      <th>DEWP</th>\n",
              "    </tr>\n",
              "  </thead>\n",
              "  <tbody>\n",
              "    <tr>\n",
              "      <th>TEMP</th>\n",
              "      <td>1.00</td>\n",
              "      <td>0.82</td>\n",
              "    </tr>\n",
              "    <tr>\n",
              "      <th>DEWP</th>\n",
              "      <td>0.82</td>\n",
              "      <td>1.00</td>\n",
              "    </tr>\n",
              "  </tbody>\n",
              "</table>\n",
              "</div>\n",
              "    <div class=\"colab-df-buttons\">\n",
              "\n",
              "  <div class=\"colab-df-container\">\n",
              "    <button class=\"colab-df-convert\" onclick=\"convertToInteractive('df-fcb88a7d-19b5-4f91-a77c-7922fbfeaf3f')\"\n",
              "            title=\"Convert this dataframe to an interactive table.\"\n",
              "            style=\"display:none;\">\n",
              "\n",
              "  <svg xmlns=\"http://www.w3.org/2000/svg\" height=\"24px\" viewBox=\"0 -960 960 960\">\n",
              "    <path d=\"M120-120v-720h720v720H120Zm60-500h600v-160H180v160Zm220 220h160v-160H400v160Zm0 220h160v-160H400v160ZM180-400h160v-160H180v160Zm440 0h160v-160H620v160ZM180-180h160v-160H180v160Zm440 0h160v-160H620v160Z\"/>\n",
              "  </svg>\n",
              "    </button>\n",
              "\n",
              "  <style>\n",
              "    .colab-df-container {\n",
              "      display:flex;\n",
              "      gap: 12px;\n",
              "    }\n",
              "\n",
              "    .colab-df-convert {\n",
              "      background-color: #E8F0FE;\n",
              "      border: none;\n",
              "      border-radius: 50%;\n",
              "      cursor: pointer;\n",
              "      display: none;\n",
              "      fill: #1967D2;\n",
              "      height: 32px;\n",
              "      padding: 0 0 0 0;\n",
              "      width: 32px;\n",
              "    }\n",
              "\n",
              "    .colab-df-convert:hover {\n",
              "      background-color: #E2EBFA;\n",
              "      box-shadow: 0px 1px 2px rgba(60, 64, 67, 0.3), 0px 1px 3px 1px rgba(60, 64, 67, 0.15);\n",
              "      fill: #174EA6;\n",
              "    }\n",
              "\n",
              "    .colab-df-buttons div {\n",
              "      margin-bottom: 4px;\n",
              "    }\n",
              "\n",
              "    [theme=dark] .colab-df-convert {\n",
              "      background-color: #3B4455;\n",
              "      fill: #D2E3FC;\n",
              "    }\n",
              "\n",
              "    [theme=dark] .colab-df-convert:hover {\n",
              "      background-color: #434B5C;\n",
              "      box-shadow: 0px 1px 3px 1px rgba(0, 0, 0, 0.15);\n",
              "      filter: drop-shadow(0px 1px 2px rgba(0, 0, 0, 0.3));\n",
              "      fill: #FFFFFF;\n",
              "    }\n",
              "  </style>\n",
              "\n",
              "    <script>\n",
              "      const buttonEl =\n",
              "        document.querySelector('#df-fcb88a7d-19b5-4f91-a77c-7922fbfeaf3f button.colab-df-convert');\n",
              "      buttonEl.style.display =\n",
              "        google.colab.kernel.accessAllowed ? 'block' : 'none';\n",
              "\n",
              "      async function convertToInteractive(key) {\n",
              "        const element = document.querySelector('#df-fcb88a7d-19b5-4f91-a77c-7922fbfeaf3f');\n",
              "        const dataTable =\n",
              "          await google.colab.kernel.invokeFunction('convertToInteractive',\n",
              "                                                    [key], {});\n",
              "        if (!dataTable) return;\n",
              "\n",
              "        const docLinkHtml = 'Like what you see? Visit the ' +\n",
              "          '<a target=\"_blank\" href=https://colab.research.google.com/notebooks/data_table.ipynb>data table notebook</a>'\n",
              "          + ' to learn more about interactive tables.';\n",
              "        element.innerHTML = '';\n",
              "        dataTable['output_type'] = 'display_data';\n",
              "        await google.colab.output.renderOutput(dataTable, element);\n",
              "        const docLink = document.createElement('div');\n",
              "        docLink.innerHTML = docLinkHtml;\n",
              "        element.appendChild(docLink);\n",
              "      }\n",
              "    </script>\n",
              "  </div>\n",
              "\n",
              "\n",
              "<div id=\"df-40127035-4346-4504-9f87-c42c8733b0b9\">\n",
              "  <button class=\"colab-df-quickchart\" onclick=\"quickchart('df-40127035-4346-4504-9f87-c42c8733b0b9')\"\n",
              "            title=\"Suggest charts\"\n",
              "            style=\"display:none;\">\n",
              "\n",
              "<svg xmlns=\"http://www.w3.org/2000/svg\" height=\"24px\"viewBox=\"0 0 24 24\"\n",
              "     width=\"24px\">\n",
              "    <g>\n",
              "        <path d=\"M19 3H5c-1.1 0-2 .9-2 2v14c0 1.1.9 2 2 2h14c1.1 0 2-.9 2-2V5c0-1.1-.9-2-2-2zM9 17H7v-7h2v7zm4 0h-2V7h2v10zm4 0h-2v-4h2v4z\"/>\n",
              "    </g>\n",
              "</svg>\n",
              "  </button>\n",
              "\n",
              "<style>\n",
              "  .colab-df-quickchart {\n",
              "      --bg-color: #E8F0FE;\n",
              "      --fill-color: #1967D2;\n",
              "      --hover-bg-color: #E2EBFA;\n",
              "      --hover-fill-color: #174EA6;\n",
              "      --disabled-fill-color: #AAA;\n",
              "      --disabled-bg-color: #DDD;\n",
              "  }\n",
              "\n",
              "  [theme=dark] .colab-df-quickchart {\n",
              "      --bg-color: #3B4455;\n",
              "      --fill-color: #D2E3FC;\n",
              "      --hover-bg-color: #434B5C;\n",
              "      --hover-fill-color: #FFFFFF;\n",
              "      --disabled-bg-color: #3B4455;\n",
              "      --disabled-fill-color: #666;\n",
              "  }\n",
              "\n",
              "  .colab-df-quickchart {\n",
              "    background-color: var(--bg-color);\n",
              "    border: none;\n",
              "    border-radius: 50%;\n",
              "    cursor: pointer;\n",
              "    display: none;\n",
              "    fill: var(--fill-color);\n",
              "    height: 32px;\n",
              "    padding: 0;\n",
              "    width: 32px;\n",
              "  }\n",
              "\n",
              "  .colab-df-quickchart:hover {\n",
              "    background-color: var(--hover-bg-color);\n",
              "    box-shadow: 0 1px 2px rgba(60, 64, 67, 0.3), 0 1px 3px 1px rgba(60, 64, 67, 0.15);\n",
              "    fill: var(--button-hover-fill-color);\n",
              "  }\n",
              "\n",
              "  .colab-df-quickchart-complete:disabled,\n",
              "  .colab-df-quickchart-complete:disabled:hover {\n",
              "    background-color: var(--disabled-bg-color);\n",
              "    fill: var(--disabled-fill-color);\n",
              "    box-shadow: none;\n",
              "  }\n",
              "\n",
              "  .colab-df-spinner {\n",
              "    border: 2px solid var(--fill-color);\n",
              "    border-color: transparent;\n",
              "    border-bottom-color: var(--fill-color);\n",
              "    animation:\n",
              "      spin 1s steps(1) infinite;\n",
              "  }\n",
              "\n",
              "  @keyframes spin {\n",
              "    0% {\n",
              "      border-color: transparent;\n",
              "      border-bottom-color: var(--fill-color);\n",
              "      border-left-color: var(--fill-color);\n",
              "    }\n",
              "    20% {\n",
              "      border-color: transparent;\n",
              "      border-left-color: var(--fill-color);\n",
              "      border-top-color: var(--fill-color);\n",
              "    }\n",
              "    30% {\n",
              "      border-color: transparent;\n",
              "      border-left-color: var(--fill-color);\n",
              "      border-top-color: var(--fill-color);\n",
              "      border-right-color: var(--fill-color);\n",
              "    }\n",
              "    40% {\n",
              "      border-color: transparent;\n",
              "      border-right-color: var(--fill-color);\n",
              "      border-top-color: var(--fill-color);\n",
              "    }\n",
              "    60% {\n",
              "      border-color: transparent;\n",
              "      border-right-color: var(--fill-color);\n",
              "    }\n",
              "    80% {\n",
              "      border-color: transparent;\n",
              "      border-right-color: var(--fill-color);\n",
              "      border-bottom-color: var(--fill-color);\n",
              "    }\n",
              "    90% {\n",
              "      border-color: transparent;\n",
              "      border-bottom-color: var(--fill-color);\n",
              "    }\n",
              "  }\n",
              "</style>\n",
              "\n",
              "  <script>\n",
              "    async function quickchart(key) {\n",
              "      const quickchartButtonEl =\n",
              "        document.querySelector('#' + key + ' button');\n",
              "      quickchartButtonEl.disabled = true;  // To prevent multiple clicks.\n",
              "      quickchartButtonEl.classList.add('colab-df-spinner');\n",
              "      try {\n",
              "        const charts = await google.colab.kernel.invokeFunction(\n",
              "            'suggestCharts', [key], {});\n",
              "      } catch (error) {\n",
              "        console.error('Error during call to suggestCharts:', error);\n",
              "      }\n",
              "      quickchartButtonEl.classList.remove('colab-df-spinner');\n",
              "      quickchartButtonEl.classList.add('colab-df-quickchart-complete');\n",
              "    }\n",
              "    (() => {\n",
              "      let quickchartButtonEl =\n",
              "        document.querySelector('#df-40127035-4346-4504-9f87-c42c8733b0b9 button');\n",
              "      quickchartButtonEl.style.display =\n",
              "        google.colab.kernel.accessAllowed ? 'block' : 'none';\n",
              "    })();\n",
              "  </script>\n",
              "</div>\n",
              "    </div>\n",
              "  </div>\n"
            ]
          },
          "metadata": {},
          "execution_count": 17
        }
      ],
      "source": [
        "correlation_matrix = data_udara[['TEMP', 'DEWP']].corr().round(2)\n",
        "correlation_matrix"
      ]
    },
    {
      "cell_type": "markdown",
      "metadata": {
        "id": "I4mywF7rhSi2"
      },
      "source": [
        "Dapat kita lihat bahwa Temperatur sangat berkorelasi dengan Suhu Titik Embun."
      ]
    },
    {
      "cell_type": "markdown",
      "metadata": {
        "id": "POWaXosWIKS0"
      },
      "source": [
        "3. Berapa skor indeks kualitas udara.\n",
        "\n",
        "Skor indek kualitas udara di china terbagi menjadi 6 level:\n",
        "- Level 1, 0-50, Sangat Baik\n",
        "- Level 2, 51-100, Baik\n",
        "- Level 3, 101-150, Sedikit Tercemar\n",
        "- Level 4, 151-200, Cukup Tercemar\n",
        "- Level 5, 201-300, Sangat Tercemar\n",
        "- Level 6, >300, Tecemar Parah"
      ]
    },
    {
      "cell_type": "code",
      "execution_count": 18,
      "metadata": {
        "colab": {
          "base_uri": "https://localhost:8080/",
          "height": 300
        },
        "id": "QJI6h7GmADcT",
        "outputId": "03caef6d-4b07-4a87-e01e-27fb03311919"
      },
      "outputs": [
        {
          "output_type": "execute_result",
          "data": {
            "text/plain": [
              "                   PM2.5    PM10     SO2     NO2       CO     O3    Skor  \\\n",
              "year   month day                                                           \n",
              "2013.0 3.0   1.0    7.12   10.75   11.71   22.58   429.17  63.88  284.69   \n",
              "             2.0   30.75   42.08   36.62   66.67   824.92  29.75  338.75   \n",
              "             3.0   76.92  120.54   61.29   81.00  1620.62  19.12  444.28   \n",
              "             4.0   22.71   44.58   22.64   47.47   644.29  53.75  317.27   \n",
              "             5.0  148.88  183.79   93.88  132.83  2357.96  68.46  556.31   \n",
              "             6.0  223.25  265.17  116.24  142.06  3031.46  19.75  646.66   \n",
              "             7.0  263.38  316.08   97.54  147.75  3632.88  38.83  724.38   \n",
              "\n",
              "                   Datetime  \n",
              "year   month day             \n",
              "2013.0 3.0   1.0 2013-03-01  \n",
              "             2.0 2013-03-02  \n",
              "             3.0 2013-03-03  \n",
              "             4.0 2013-03-04  \n",
              "             5.0 2013-03-05  \n",
              "             6.0 2013-03-06  \n",
              "             7.0 2013-03-07  "
            ],
            "text/html": [
              "\n",
              "  <div id=\"df-c0da0249-7909-458f-ab16-d2d12732db3e\" class=\"colab-df-container\">\n",
              "    <div>\n",
              "<style scoped>\n",
              "    .dataframe tbody tr th:only-of-type {\n",
              "        vertical-align: middle;\n",
              "    }\n",
              "\n",
              "    .dataframe tbody tr th {\n",
              "        vertical-align: top;\n",
              "    }\n",
              "\n",
              "    .dataframe thead th {\n",
              "        text-align: right;\n",
              "    }\n",
              "</style>\n",
              "<table border=\"1\" class=\"dataframe\">\n",
              "  <thead>\n",
              "    <tr style=\"text-align: right;\">\n",
              "      <th></th>\n",
              "      <th></th>\n",
              "      <th></th>\n",
              "      <th>PM2.5</th>\n",
              "      <th>PM10</th>\n",
              "      <th>SO2</th>\n",
              "      <th>NO2</th>\n",
              "      <th>CO</th>\n",
              "      <th>O3</th>\n",
              "      <th>Skor</th>\n",
              "      <th>Datetime</th>\n",
              "    </tr>\n",
              "    <tr>\n",
              "      <th>year</th>\n",
              "      <th>month</th>\n",
              "      <th>day</th>\n",
              "      <th></th>\n",
              "      <th></th>\n",
              "      <th></th>\n",
              "      <th></th>\n",
              "      <th></th>\n",
              "      <th></th>\n",
              "      <th></th>\n",
              "      <th></th>\n",
              "    </tr>\n",
              "  </thead>\n",
              "  <tbody>\n",
              "    <tr>\n",
              "      <th rowspan=\"7\" valign=\"top\">2013.0</th>\n",
              "      <th rowspan=\"7\" valign=\"top\">3.0</th>\n",
              "      <th>1.0</th>\n",
              "      <td>7.12</td>\n",
              "      <td>10.75</td>\n",
              "      <td>11.71</td>\n",
              "      <td>22.58</td>\n",
              "      <td>429.17</td>\n",
              "      <td>63.88</td>\n",
              "      <td>284.69</td>\n",
              "      <td>2013-03-01</td>\n",
              "    </tr>\n",
              "    <tr>\n",
              "      <th>2.0</th>\n",
              "      <td>30.75</td>\n",
              "      <td>42.08</td>\n",
              "      <td>36.62</td>\n",
              "      <td>66.67</td>\n",
              "      <td>824.92</td>\n",
              "      <td>29.75</td>\n",
              "      <td>338.75</td>\n",
              "      <td>2013-03-02</td>\n",
              "    </tr>\n",
              "    <tr>\n",
              "      <th>3.0</th>\n",
              "      <td>76.92</td>\n",
              "      <td>120.54</td>\n",
              "      <td>61.29</td>\n",
              "      <td>81.00</td>\n",
              "      <td>1620.62</td>\n",
              "      <td>19.12</td>\n",
              "      <td>444.28</td>\n",
              "      <td>2013-03-03</td>\n",
              "    </tr>\n",
              "    <tr>\n",
              "      <th>4.0</th>\n",
              "      <td>22.71</td>\n",
              "      <td>44.58</td>\n",
              "      <td>22.64</td>\n",
              "      <td>47.47</td>\n",
              "      <td>644.29</td>\n",
              "      <td>53.75</td>\n",
              "      <td>317.27</td>\n",
              "      <td>2013-03-04</td>\n",
              "    </tr>\n",
              "    <tr>\n",
              "      <th>5.0</th>\n",
              "      <td>148.88</td>\n",
              "      <td>183.79</td>\n",
              "      <td>93.88</td>\n",
              "      <td>132.83</td>\n",
              "      <td>2357.96</td>\n",
              "      <td>68.46</td>\n",
              "      <td>556.31</td>\n",
              "      <td>2013-03-05</td>\n",
              "    </tr>\n",
              "    <tr>\n",
              "      <th>6.0</th>\n",
              "      <td>223.25</td>\n",
              "      <td>265.17</td>\n",
              "      <td>116.24</td>\n",
              "      <td>142.06</td>\n",
              "      <td>3031.46</td>\n",
              "      <td>19.75</td>\n",
              "      <td>646.66</td>\n",
              "      <td>2013-03-06</td>\n",
              "    </tr>\n",
              "    <tr>\n",
              "      <th>7.0</th>\n",
              "      <td>263.38</td>\n",
              "      <td>316.08</td>\n",
              "      <td>97.54</td>\n",
              "      <td>147.75</td>\n",
              "      <td>3632.88</td>\n",
              "      <td>38.83</td>\n",
              "      <td>724.38</td>\n",
              "      <td>2013-03-07</td>\n",
              "    </tr>\n",
              "  </tbody>\n",
              "</table>\n",
              "</div>\n",
              "    <div class=\"colab-df-buttons\">\n",
              "\n",
              "  <div class=\"colab-df-container\">\n",
              "    <button class=\"colab-df-convert\" onclick=\"convertToInteractive('df-c0da0249-7909-458f-ab16-d2d12732db3e')\"\n",
              "            title=\"Convert this dataframe to an interactive table.\"\n",
              "            style=\"display:none;\">\n",
              "\n",
              "  <svg xmlns=\"http://www.w3.org/2000/svg\" height=\"24px\" viewBox=\"0 -960 960 960\">\n",
              "    <path d=\"M120-120v-720h720v720H120Zm60-500h600v-160H180v160Zm220 220h160v-160H400v160Zm0 220h160v-160H400v160ZM180-400h160v-160H180v160Zm440 0h160v-160H620v160ZM180-180h160v-160H180v160Zm440 0h160v-160H620v160Z\"/>\n",
              "  </svg>\n",
              "    </button>\n",
              "\n",
              "  <style>\n",
              "    .colab-df-container {\n",
              "      display:flex;\n",
              "      gap: 12px;\n",
              "    }\n",
              "\n",
              "    .colab-df-convert {\n",
              "      background-color: #E8F0FE;\n",
              "      border: none;\n",
              "      border-radius: 50%;\n",
              "      cursor: pointer;\n",
              "      display: none;\n",
              "      fill: #1967D2;\n",
              "      height: 32px;\n",
              "      padding: 0 0 0 0;\n",
              "      width: 32px;\n",
              "    }\n",
              "\n",
              "    .colab-df-convert:hover {\n",
              "      background-color: #E2EBFA;\n",
              "      box-shadow: 0px 1px 2px rgba(60, 64, 67, 0.3), 0px 1px 3px 1px rgba(60, 64, 67, 0.15);\n",
              "      fill: #174EA6;\n",
              "    }\n",
              "\n",
              "    .colab-df-buttons div {\n",
              "      margin-bottom: 4px;\n",
              "    }\n",
              "\n",
              "    [theme=dark] .colab-df-convert {\n",
              "      background-color: #3B4455;\n",
              "      fill: #D2E3FC;\n",
              "    }\n",
              "\n",
              "    [theme=dark] .colab-df-convert:hover {\n",
              "      background-color: #434B5C;\n",
              "      box-shadow: 0px 1px 3px 1px rgba(0, 0, 0, 0.15);\n",
              "      filter: drop-shadow(0px 1px 2px rgba(0, 0, 0, 0.3));\n",
              "      fill: #FFFFFF;\n",
              "    }\n",
              "  </style>\n",
              "\n",
              "    <script>\n",
              "      const buttonEl =\n",
              "        document.querySelector('#df-c0da0249-7909-458f-ab16-d2d12732db3e button.colab-df-convert');\n",
              "      buttonEl.style.display =\n",
              "        google.colab.kernel.accessAllowed ? 'block' : 'none';\n",
              "\n",
              "      async function convertToInteractive(key) {\n",
              "        const element = document.querySelector('#df-c0da0249-7909-458f-ab16-d2d12732db3e');\n",
              "        const dataTable =\n",
              "          await google.colab.kernel.invokeFunction('convertToInteractive',\n",
              "                                                    [key], {});\n",
              "        if (!dataTable) return;\n",
              "\n",
              "        const docLinkHtml = 'Like what you see? Visit the ' +\n",
              "          '<a target=\"_blank\" href=https://colab.research.google.com/notebooks/data_table.ipynb>data table notebook</a>'\n",
              "          + ' to learn more about interactive tables.';\n",
              "        element.innerHTML = '';\n",
              "        dataTable['output_type'] = 'display_data';\n",
              "        await google.colab.output.renderOutput(dataTable, element);\n",
              "        const docLink = document.createElement('div');\n",
              "        docLink.innerHTML = docLinkHtml;\n",
              "        element.appendChild(docLink);\n",
              "      }\n",
              "    </script>\n",
              "  </div>\n",
              "\n",
              "\n",
              "<div id=\"df-b5505970-0643-47b3-a0a7-a89c15fd7e85\">\n",
              "  <button class=\"colab-df-quickchart\" onclick=\"quickchart('df-b5505970-0643-47b3-a0a7-a89c15fd7e85')\"\n",
              "            title=\"Suggest charts\"\n",
              "            style=\"display:none;\">\n",
              "\n",
              "<svg xmlns=\"http://www.w3.org/2000/svg\" height=\"24px\"viewBox=\"0 0 24 24\"\n",
              "     width=\"24px\">\n",
              "    <g>\n",
              "        <path d=\"M19 3H5c-1.1 0-2 .9-2 2v14c0 1.1.9 2 2 2h14c1.1 0 2-.9 2-2V5c0-1.1-.9-2-2-2zM9 17H7v-7h2v7zm4 0h-2V7h2v10zm4 0h-2v-4h2v4z\"/>\n",
              "    </g>\n",
              "</svg>\n",
              "  </button>\n",
              "\n",
              "<style>\n",
              "  .colab-df-quickchart {\n",
              "      --bg-color: #E8F0FE;\n",
              "      --fill-color: #1967D2;\n",
              "      --hover-bg-color: #E2EBFA;\n",
              "      --hover-fill-color: #174EA6;\n",
              "      --disabled-fill-color: #AAA;\n",
              "      --disabled-bg-color: #DDD;\n",
              "  }\n",
              "\n",
              "  [theme=dark] .colab-df-quickchart {\n",
              "      --bg-color: #3B4455;\n",
              "      --fill-color: #D2E3FC;\n",
              "      --hover-bg-color: #434B5C;\n",
              "      --hover-fill-color: #FFFFFF;\n",
              "      --disabled-bg-color: #3B4455;\n",
              "      --disabled-fill-color: #666;\n",
              "  }\n",
              "\n",
              "  .colab-df-quickchart {\n",
              "    background-color: var(--bg-color);\n",
              "    border: none;\n",
              "    border-radius: 50%;\n",
              "    cursor: pointer;\n",
              "    display: none;\n",
              "    fill: var(--fill-color);\n",
              "    height: 32px;\n",
              "    padding: 0;\n",
              "    width: 32px;\n",
              "  }\n",
              "\n",
              "  .colab-df-quickchart:hover {\n",
              "    background-color: var(--hover-bg-color);\n",
              "    box-shadow: 0 1px 2px rgba(60, 64, 67, 0.3), 0 1px 3px 1px rgba(60, 64, 67, 0.15);\n",
              "    fill: var(--button-hover-fill-color);\n",
              "  }\n",
              "\n",
              "  .colab-df-quickchart-complete:disabled,\n",
              "  .colab-df-quickchart-complete:disabled:hover {\n",
              "    background-color: var(--disabled-bg-color);\n",
              "    fill: var(--disabled-fill-color);\n",
              "    box-shadow: none;\n",
              "  }\n",
              "\n",
              "  .colab-df-spinner {\n",
              "    border: 2px solid var(--fill-color);\n",
              "    border-color: transparent;\n",
              "    border-bottom-color: var(--fill-color);\n",
              "    animation:\n",
              "      spin 1s steps(1) infinite;\n",
              "  }\n",
              "\n",
              "  @keyframes spin {\n",
              "    0% {\n",
              "      border-color: transparent;\n",
              "      border-bottom-color: var(--fill-color);\n",
              "      border-left-color: var(--fill-color);\n",
              "    }\n",
              "    20% {\n",
              "      border-color: transparent;\n",
              "      border-left-color: var(--fill-color);\n",
              "      border-top-color: var(--fill-color);\n",
              "    }\n",
              "    30% {\n",
              "      border-color: transparent;\n",
              "      border-left-color: var(--fill-color);\n",
              "      border-top-color: var(--fill-color);\n",
              "      border-right-color: var(--fill-color);\n",
              "    }\n",
              "    40% {\n",
              "      border-color: transparent;\n",
              "      border-right-color: var(--fill-color);\n",
              "      border-top-color: var(--fill-color);\n",
              "    }\n",
              "    60% {\n",
              "      border-color: transparent;\n",
              "      border-right-color: var(--fill-color);\n",
              "    }\n",
              "    80% {\n",
              "      border-color: transparent;\n",
              "      border-right-color: var(--fill-color);\n",
              "      border-bottom-color: var(--fill-color);\n",
              "    }\n",
              "    90% {\n",
              "      border-color: transparent;\n",
              "      border-bottom-color: var(--fill-color);\n",
              "    }\n",
              "  }\n",
              "</style>\n",
              "\n",
              "  <script>\n",
              "    async function quickchart(key) {\n",
              "      const quickchartButtonEl =\n",
              "        document.querySelector('#' + key + ' button');\n",
              "      quickchartButtonEl.disabled = true;  // To prevent multiple clicks.\n",
              "      quickchartButtonEl.classList.add('colab-df-spinner');\n",
              "      try {\n",
              "        const charts = await google.colab.kernel.invokeFunction(\n",
              "            'suggestCharts', [key], {});\n",
              "      } catch (error) {\n",
              "        console.error('Error during call to suggestCharts:', error);\n",
              "      }\n",
              "      quickchartButtonEl.classList.remove('colab-df-spinner');\n",
              "      quickchartButtonEl.classList.add('colab-df-quickchart-complete');\n",
              "    }\n",
              "    (() => {\n",
              "      let quickchartButtonEl =\n",
              "        document.querySelector('#df-b5505970-0643-47b3-a0a7-a89c15fd7e85 button');\n",
              "      quickchartButtonEl.style.display =\n",
              "        google.colab.kernel.accessAllowed ? 'block' : 'none';\n",
              "    })();\n",
              "  </script>\n",
              "</div>\n",
              "    </div>\n",
              "  </div>\n"
            ]
          },
          "metadata": {},
          "execution_count": 18
        }
      ],
      "source": [
        "# melakukan analisis indeks kualitas udara\n",
        "\n",
        "# bagian Filter dari Tgl 1 Maret 2013 sampai 28 Febuari 2017\n",
        "tahun = 2013\n",
        "bulan = 3\n",
        "hari_dari = 1\n",
        "hari_sampai = 7\n",
        "\n",
        "# buat variabel untuk menampung nilai filter\n",
        "filter_tahun = data_udara[\"year\"]==tahun\n",
        "filter_bulan = data_udara[\"month\"]==bulan\n",
        "filter_hari_dari = data_udara[\"day\"]>=hari_dari\n",
        "filter_hari_sampai = data_udara[\"day\"]<=hari_sampai\n",
        "\n",
        "# filter data dan pengelompokan data\n",
        "data_filter = data_udara.where(filter_tahun & filter_bulan & filter_hari_dari & filter_hari_sampai).groupby(['year','month','day'])\n",
        "\n",
        "# buat variabel untuk menampung nilai 6 kolom yang akan digunakan sebagai dasar perhitungan\n",
        "# sekalian di hitung rata-ratanya karena dalam 1 hari ada 24 data untuk 6 kolom tersebut\n",
        "data_skor = data_filter[['PM2.5','PM10','SO2','NO2','CO','O3','year','month','day']].mean().round(2)\n",
        "\n",
        "# buat variabel Skor untuk menampung nilai rata-rata dari 6 kolom\n",
        "Skor = data_skor.mean(axis=1).round(2)\n",
        "\n",
        "# masukkan nilai variabel Skor ke dalam Data Frame\n",
        "data_skor.insert(6,\"Skor\",Skor)\n",
        "\n",
        "# membuat kolom Datetime berisi tgl\n",
        "data_skor['Datetime'] = pd.to_datetime(dict(year=data_skor.year, month=data_skor.month, day=data_skor.day))\n",
        "\n",
        "# hapus kolom yang sudah tidak dipakai\n",
        "del(data_skor['year'])\n",
        "del(data_skor['month'])\n",
        "del(data_skor['day'])\n",
        "\n",
        "# kita cek dulu tampilannya\n",
        "data_skor"
      ]
    },
    {
      "cell_type": "markdown",
      "metadata": {
        "id": "FIwHYY0I3Wfs"
      },
      "source": [
        "Jika kita lihat hasil untuk filter 1 April 2013 kadar CO atau Karbon Monoksida sangat tinggi, selanjutnya kita jumlah dan kita ambil rata-rata dari keenam nilai."
      ]
    },
    {
      "cell_type": "markdown",
      "metadata": {
        "id": "jLm9HJ4G39Kz"
      },
      "source": [
        "Dan dengan skor 254 bisa dikatakan indeks kualitas udara sangat tercemar."
      ]
    },
    {
      "cell_type": "markdown",
      "metadata": {
        "id": "SCNmtOLp9OKB"
      },
      "source": [
        "## Visualization & Explanatory Analysis"
      ]
    },
    {
      "cell_type": "markdown",
      "metadata": {
        "id": "SG59_Fbj9Qr6"
      },
      "source": [
        "### Pertanyaan 1: Berapa pengaruh kadar PM2.5, PM10, SO2, NO2, CO dan O3 satu sama lain.\n"
      ]
    },
    {
      "cell_type": "markdown",
      "metadata": {
        "id": "eEoFScX9lAVF"
      },
      "source": [
        "Kita akan melihat hasilnya pada visualisais berikut."
      ]
    },
    {
      "cell_type": "code",
      "execution_count": 19,
      "metadata": {
        "colab": {
          "base_uri": "https://localhost:8080/",
          "height": 563
        },
        "id": "3k7mpGFZfeOu",
        "outputId": "92b64a7b-ada7-4a8c-b7a5-6f289b059671"
      },
      "outputs": [
        {
          "output_type": "execute_result",
          "data": {
            "text/plain": [
              "Text(0.5, 1.0, 'Correlation Matrix untuk PM2.5, PM10, SO2, NO2, CO dan O3')"
            ]
          },
          "metadata": {},
          "execution_count": 19
        },
        {
          "output_type": "display_data",
          "data": {
            "text/plain": [
              "<Figure size 600x600 with 2 Axes>"
            ],
            "image/png": "[encoded data removed]"
          },
          "metadata": {}
        }
      ],
      "source": [
        "correlation_matrix = data_udara[['PM2.5', 'PM10', 'SO2', 'NO2', 'CO', 'O3']].corr().round(2)\n",
        "\n",
        "# untuk mengatur ukuran\n",
        "plt.figure(figsize=(6, 6))\n",
        "\n",
        "# Untuk menge-print nilai di dalam kotak, gunakan parameter anot=True, cmap untuk mengatur warna dari biru=dingin dan merah=panas,\n",
        "# linewidths untuk memberikan spasi antar baris dan kolom\n",
        "sns.heatmap(data=correlation_matrix, annot=True, cmap='coolwarm', linewidths=0.5, )\n",
        "plt.title(\"Correlation Matrix untuk PM2.5, PM10, SO2, NO2, CO dan O3\", size=13)"
      ]
    },
    {
      "cell_type": "markdown",
      "source": [
        "Dari hasil diatas nilai korelasi yang paling tinggi ada pada PM2.5 dan PM10, kita akan melihat dalam diagram prot regresi berikut."
      ],
      "metadata": {
        "id": "K7y9kQfgpSNP"
      }
    },
    {
      "cell_type": "code",
      "execution_count": 20,
      "metadata": {
        "colab": {
          "base_uri": "https://localhost:8080/",
          "height": 467
        },
        "id": "bw8Xb96_q8ZE",
        "outputId": "46ab2b97-e7d9-4b15-c717-4c6b49f720b2"
      },
      "outputs": [
        {
          "output_type": "execute_result",
          "data": {
            "text/plain": [
              "<Axes: xlabel='PM2.5', ylabel='PM10'>"
            ]
          },
          "metadata": {},
          "execution_count": 20
        },
        {
          "output_type": "display_data",
          "data": {
            "text/plain": [
              "<Figure size 640x480 with 1 Axes>"
            ],
            "image/png": "[encoded data removed]"
          },
          "metadata": {}
        }
      ],
      "source": [
        "sns.regplot(x=\"PM2.5\", y=\"PM10\", data=data_udara)"
      ]
    },
    {
      "cell_type": "markdown",
      "source": [
        "Dapat dilihat bahwa nilai PM2.5 dan PM10 tegak lurus, meskiput ada juga data outlier."
      ],
      "metadata": {
        "id": "731oEsuEqtlG"
      }
    },
    {
      "cell_type": "markdown",
      "metadata": {
        "id": "-YGkA4yBlGD6"
      },
      "source": [
        "Informasi yang kita dapat dari visualisasi diatas yaitu:\n",
        "- Kadar PM2.5 dan PM10 memeiliki korelasi tertinggi dengan nilai 0.87,\n",
        "- Kemudian disusul oleh PM2.5 dan CO diposisi kedua dengan nilai 0.75,\n",
        "- Dan yang ketiga kadar CO2 dan NO2 di posisi ketiga dengan nilai 0.68."
      ]
    },
    {
      "cell_type": "markdown",
      "metadata": {
        "id": "F2Bo_ypQ9RfH"
      },
      "source": [
        "### Pertanyaan 2: Berapa pengaruh kadar TEMP (Temperatur), DEWP (Suhu Titik Beku) satu sama lain."
      ]
    },
    {
      "cell_type": "code",
      "execution_count": 21,
      "metadata": {
        "colab": {
          "base_uri": "https://localhost:8080/",
          "height": 488
        },
        "id": "iYu2viYzKUcC",
        "outputId": "7e9af05e-04ac-4235-d2c6-bcc6039ce378"
      },
      "outputs": [
        {
          "output_type": "execute_result",
          "data": {
            "text/plain": [
              "Text(0.5, 1.0, 'Correlation Matrix untuk TEMP dan DEWP ')"
            ]
          },
          "metadata": {},
          "execution_count": 21
        },
        {
          "output_type": "display_data",
          "data": {
            "text/plain": [
              "<Figure size 500x500 with 2 Axes>"
            ],
            "image/png": "[encoded data removed]"
          },
          "metadata": {}
        }
      ],
      "source": [
        "correlation_matrix = data_udara[['TEMP', 'DEWP']].corr().round(2)\n",
        "\n",
        "# untuk mengatur ukuran\n",
        "plt.figure(figsize=(5, 5))\n",
        "\n",
        "# Untuk menge-print nilai di dalam kotak, gunakan parameter anot=True, cmap untuk mengatur warna dari biru=dingin dan merah=panas,\n",
        "# linewidths untuk memberikan spasi antar baris dan kolom\n",
        "sns.heatmap(data=correlation_matrix, annot=True, cmap='coolwarm', linewidths=0.5, )\n",
        "plt.title(\"Correlation Matrix untuk TEMP dan DEWP \", size=15)"
      ]
    },
    {
      "cell_type": "markdown",
      "metadata": {
        "id": "OWr4biKSqNAF"
      },
      "source": [
        "Hasilnya nilai Temperatur sangat berpengaruh terhadap Suhu titik embun dengan nilai 0.82. Untuk lebih mudah kita akan memvisualisasikannya seperti berikut:"
      ]
    },
    {
      "cell_type": "code",
      "execution_count": 22,
      "metadata": {
        "colab": {
          "base_uri": "https://localhost:8080/",
          "height": 467
        },
        "id": "AjMRRJULdPci",
        "outputId": "8f6e4725-d8fb-46c5-db38-dbdbc99c4c40"
      },
      "outputs": [
        {
          "output_type": "execute_result",
          "data": {
            "text/plain": [
              "<Axes: xlabel='TEMP', ylabel='DEWP'>"
            ]
          },
          "metadata": {},
          "execution_count": 22
        },
        {
          "output_type": "display_data",
          "data": {
            "text/plain": [
              "<Figure size 640x480 with 1 Axes>"
            ],
            "image/png": "[encoded data removed]"
          },
          "metadata": {}
        }
      ],
      "source": [
        "sns.regplot(x=\"TEMP\", y=\"DEWP\", data=data_udara[['TEMP','DEWP']])"
      ]
    },
    {
      "cell_type": "markdown",
      "metadata": {
        "id": "efGhBW12qtrs"
      },
      "source": [
        "Dapat dilihat dalam visualisai nilai TEMP (Temperatur) tegak lurus dengan nilai DEWP (Suhu Titik Embun)."
      ]
    },
    {
      "cell_type": "markdown",
      "metadata": {
        "id": "DhSlj2RyuLLO"
      },
      "source": [
        "### Pertanyaan 3: Berapa Skor Indek Kualitas Udara dalam 1 minggu"
      ]
    },
    {
      "cell_type": "code",
      "execution_count": 23,
      "metadata": {
        "colab": {
          "base_uri": "https://localhost:8080/",
          "height": 354
        },
        "id": "LPnaSa_d8zbV",
        "outputId": "576a88f3-3c99-4087-e378-3291978feec5"
      },
      "outputs": [
        {
          "output_type": "display_data",
          "data": {
            "text/plain": [
              "<Figure size 1500x500 with 1 Axes>"
            ],
            "image/png": "[encoded data removed]"
          },
          "metadata": {}
        }
      ],
      "source": [
        "plt.figure(figsize=(15, 5))\n",
        "plt.plot(data_skor['Datetime'], data_skor['Skor'], color='red')\n",
        "plt.xlabel('Hari',size=10)\n",
        "plt.ylabel('Lavel',size=15)\n",
        "plt.show()"
      ]
    },
    {
      "cell_type": "markdown",
      "source": [
        "Visualisasi diatas menunjukkan bahwa skor indeks kualitas udara sudah sangat tercemar."
      ],
      "metadata": {
        "id": "5C32KvLQrvFc"
      }
    },
    {
      "cell_type": "markdown",
      "metadata": {
        "id": "J2CnXYGT9Tc2"
      },
      "source": [
        "## Conclusion"
      ]
    },
    {
      "cell_type": "markdown",
      "metadata": {
        "id": "f73FBkLw9V8C"
      },
      "source": [
        "- Conclution pertanyaan 1\n",
        "> Kadar PM2.5 dan PM10 memeiliki korelasi tertinggi dengan nilai 0.87,\n",
        "> Kemudian disusul oleh PM2.5 dan CO diposisi kedua dengan nilai 0.75,\n",
        "> Dan yang ketiga kadar CO2 dan NO2 di posisi ketiga dengan nilai 0.68.\n",
        "\n",
        "- conclution pertanyaan 2\n",
        "> Variabel TEMP dan DEWP sangat berpengaruh satu dengan yang lainnya.\n",
        "\n",
        "- conclution pertanyaan 3\n",
        "> Skor indek kualitas udara menunjukkan hasil udara Tercemar Parah."
      ]
    },
    {
      "cell_type": "markdown",
      "source": [
        "## Persiapan Untuk Dashboard"
      ],
      "metadata": {
        "id": "FoobOAectCue"
      }
    },
    {
      "cell_type": "markdown",
      "source": [
        "Untuk menghasilkan file requirments.txt"
      ],
      "metadata": {
        "id": "t2v6p_mwEsvD"
      }
    },
    {
      "cell_type": "code",
      "source": [
        "!pip install pipreqsnb"
      ],
      "metadata": {
        "colab": {
          "base_uri": "https://localhost:8080/"
        },
        "id": "gSy5zy1oEqrH",
        "outputId": "58f45fc6-2ac8-4d58-ef7b-fdf37e3e5ad1"
      },
      "execution_count": 24,
      "outputs": [
        {
          "output_type": "stream",
          "name": "stdout",
          "text": [
            "Requirement already satisfied: pipreqsnb in /usr/local/lib/python3.10/dist-packages (0.2.4)\n",
            "Requirement already satisfied: pipreqs in /usr/local/lib/python3.10/dist-packages (from pipreqsnb) (0.4.13)\n",
            "Requirement already satisfied: docopt in /usr/local/lib/python3.10/dist-packages (from pipreqs->pipreqsnb) (0.6.2)\n",
            "Requirement already satisfied: yarg in /usr/local/lib/python3.10/dist-packages (from pipreqs->pipreqsnb) (0.1.9)\n",
            "Requirement already satisfied: requests in /usr/local/lib/python3.10/dist-packages (from yarg->pipreqs->pipreqsnb) (2.31.0)\n",
            "Requirement already satisfied: charset-normalizer<4,>=2 in /usr/local/lib/python3.10/dist-packages (from requests->yarg->pipreqs->pipreqsnb) (3.3.2)\n",
            "Requirement already satisfied: idna<4,>=2.5 in /usr/local/lib/python3.10/dist-packages (from requests->yarg->pipreqs->pipreqsnb) (3.6)\n",
            "Requirement already satisfied: urllib3<3,>=1.21.1 in /usr/local/lib/python3.10/dist-packages (from requests->yarg->pipreqs->pipreqsnb) (2.0.7)\n",
            "Requirement already satisfied: certifi>=2017.4.17 in /usr/local/lib/python3.10/dist-packages (from requests->yarg->pipreqs->pipreqsnb) (2023.11.17)\n"
          ]
        }
      ]
    },
    {
      "cell_type": "code",
      "source": [
        "!pipreqsnb /content/"
      ],
      "metadata": {
        "colab": {
          "base_uri": "https://localhost:8080/"
        },
        "id": "dZX5OMCpEy1x",
        "outputId": "934366ac-27dd-4ae3-9f01-14dd5337dfea"
      },
      "execution_count": 25,
      "outputs": [
        {
          "output_type": "stream",
          "name": "stdout",
          "text": [
            "pipreqs  /content/\n",
            "WARNING: Import named \"seaborn\" not found locally. Trying to resolve it at the PyPI server.\n",
            "WARNING: Import named \"seaborn\" was resolved to \"seaborn:0.13.0\" package (https://pypi.org/project/seaborn/).\n",
            "Please, verify manually the final list of requirements.txt to avoid possible dependency confusions.\n",
            "INFO: Successfully saved requirements file in /content/requirements.txt\n"
          ]
        }
      ]
    },
    {
      "cell_type": "markdown",
      "source": [
        "**Data Udara Group by Tahun, Bulan dan Hari.**"
      ],
      "metadata": {
        "id": "4tgkpeJuv-hO"
      }
    },
    {
      "cell_type": "code",
      "execution_count": 26,
      "metadata": {
        "id": "lb0J7GdfITVK"
      },
      "outputs": [],
      "source": [
        "# varaiabel group data berdasar tahun, bulan dan hari\n",
        "data_group_day = data_udara.groupby(['year','month','day'])\n",
        "\n",
        "# variabel untuk data rata-rata dalam sehari\n",
        "data_day = data_group_day[['PM2.5','PM10','SO2','NO2','CO','O3','year','month','day']].mean().round(2)\n",
        "\n",
        "# menampung nilai skor\n",
        "Skor = data_day[['PM2.5','PM10','SO2','NO2','CO','O3']].mean(axis=1).round(2)\n",
        "\n",
        "# masukkan nilai variabel Skor ke dalam Data Frame\n",
        "data_day.insert(6,\"Skor\",Skor)\n",
        "\n",
        "# membuat kolom Datetime berisi tgl\n",
        "data_day['Datetime'] = pd.to_datetime(dict(year=data_day.year, month=data_day.month, day=data_day.day))"
      ]
    },
    {
      "cell_type": "markdown",
      "source": [
        "**Data Udara.**"
      ],
      "metadata": {
        "id": "u3zyCHQRv1ET"
      }
    },
    {
      "cell_type": "code",
      "source": [
        "# menampung nilai skor\n",
        "Skor_data_udara = data_udara[['PM2.5','PM10','SO2','NO2','CO','O3']].mean(axis=1).round(2)\n",
        "\n",
        "# memasukkan nilai Skor_data_udara ke Data Frame\n",
        "data_udara.insert(11,\"Skor\", Skor_data_udara)\n",
        "\n",
        "# membuat kolom Datetime berisi tgl\n",
        "data_udara['Datetime'] = pd.to_datetime(dict(year=data_udara.year, month=data_udara.month, day=data_udara.day, hour=data_udara.hour), format = '%d/%m/%Y')"
      ],
      "metadata": {
        "id": "zSYry5OVvWBV"
      },
      "execution_count": 27,
      "outputs": []
    },
    {
      "cell_type": "markdown",
      "source": [
        "**Export Data Frame menjadi file Excel.**"
      ],
      "metadata": {
        "id": "efyT8aiDwPgw"
      }
    },
    {
      "cell_type": "code",
      "execution_count": 28,
      "metadata": {
        "id": "b32P72p99VN9"
      },
      "outputs": [],
      "source": [
        "data_udara.to_csv(\"main_data.csv\", index=False)\n",
        "data_day.to_csv(\"data_day.csv\", index=False)"
      ]
    },
    {
      "cell_type": "markdown",
      "metadata": {
        "id": "XuZaPxXNtfxL"
      },
      "source": [
        "# **Streamlit**"
      ]
    },
    {
      "cell_type": "code",
      "execution_count": 29,
      "metadata": {
        "colab": {
          "base_uri": "https://localhost:8080/"
        },
        "id": "vm5y_PrStT_7",
        "outputId": "647c40ac-e690-441c-e0e5-49084f285ea7"
      },
      "outputs": [
        {
          "output_type": "stream",
          "name": "stdout",
          "text": [
            "Requirement already satisfied: streamlit in /usr/local/lib/python3.10/dist-packages (1.29.0)\n",
            "Requirement already satisfied: altair<6,>=4.0 in /usr/local/lib/python3.10/dist-packages (from streamlit) (4.2.2)\n",
            "Requirement already satisfied: blinker<2,>=1.0.0 in /usr/lib/python3/dist-packages (from streamlit) (1.4)\n",
            "Requirement already satisfied: cachetools<6,>=4.0 in /usr/local/lib/python3.10/dist-packages (from streamlit) (5.3.2)\n",
            "Requirement already satisfied: click<9,>=7.0 in /usr/local/lib/python3.10/dist-packages (from streamlit) (8.1.7)\n",
            "Requirement already satisfied: importlib-metadata<7,>=1.4 in /usr/local/lib/python3.10/dist-packages (from streamlit) (6.11.0)\n",
            "Requirement already satisfied: numpy<2,>=1.19.3 in /usr/local/lib/python3.10/dist-packages (from streamlit) (1.23.5)\n",
            "Requirement already satisfied: packaging<24,>=16.8 in /usr/local/lib/python3.10/dist-packages (from streamlit) (23.2)\n",
            "Requirement already satisfied: pandas<3,>=1.3.0 in /usr/local/lib/python3.10/dist-packages (from streamlit) (1.5.3)\n",
            "Requirement already satisfied: pillow<11,>=7.1.0 in /usr/local/lib/python3.10/dist-packages (from streamlit) (9.4.0)\n",
            "Requirement already satisfied: protobuf<5,>=3.20 in /usr/local/lib/python3.10/dist-packages (from streamlit) (3.20.3)\n",
            "Requirement already satisfied: pyarrow>=6.0 in /usr/local/lib/python3.10/dist-packages (from streamlit) (10.0.1)\n",
            "Requirement already satisfied: python-dateutil<3,>=2.7.3 in /usr/local/lib/python3.10/dist-packages (from streamlit) (2.8.2)\n",
            "Requirement already satisfied: requests<3,>=2.27 in /usr/local/lib/python3.10/dist-packages (from streamlit) (2.31.0)\n",
            "Requirement already satisfied: rich<14,>=10.14.0 in /usr/local/lib/python3.10/dist-packages (from streamlit) (13.7.0)\n",
            "Requirement already satisfied: tenacity<9,>=8.1.0 in /usr/local/lib/python3.10/dist-packages (from streamlit) (8.2.3)\n",
            "Requirement already satisfied: toml<2,>=0.10.1 in /usr/local/lib/python3.10/dist-packages (from streamlit) (0.10.2)\n",
            "Requirement already satisfied: typing-extensions<5,>=4.3.0 in /usr/local/lib/python3.10/dist-packages (from streamlit) (4.5.0)\n",
            "Requirement already satisfied: tzlocal<6,>=1.1 in /usr/local/lib/python3.10/dist-packages (from streamlit) (5.2)\n",
            "Requirement already satisfied: validators<1,>=0.2 in /usr/local/lib/python3.10/dist-packages (from streamlit) (0.22.0)\n",
            "Requirement already satisfied: gitpython!=3.1.19,<4,>=3.0.7 in /usr/local/lib/python3.10/dist-packages (from streamlit) (3.1.40)\n",
            "Requirement already satisfied: pydeck<1,>=0.8.0b4 in /usr/local/lib/python3.10/dist-packages (from streamlit) (0.8.1b0)\n",
            "Requirement already satisfied: tornado<7,>=6.0.3 in /usr/local/lib/python3.10/dist-packages (from streamlit) (6.3.2)\n",
            "Requirement already satisfied: watchdog>=2.1.5 in /usr/local/lib/python3.10/dist-packages (from streamlit) (3.0.0)\n",
            "Requirement already satisfied: entrypoints in /usr/local/lib/python3.10/dist-packages (from altair<6,>=4.0->streamlit) (0.4)\n",
            "Requirement already satisfied: jinja2 in /usr/local/lib/python3.10/dist-packages (from altair<6,>=4.0->streamlit) (3.1.2)\n",
            "Requirement already satisfied: jsonschema>=3.0 in /usr/local/lib/python3.10/dist-packages (from altair<6,>=4.0->streamlit) (4.19.2)\n",
            "Requirement already satisfied: toolz in /usr/local/lib/python3.10/dist-packages (from altair<6,>=4.0->streamlit) (0.12.0)\n",
            "Requirement already satisfied: gitdb<5,>=4.0.1 in /usr/local/lib/python3.10/dist-packages (from gitpython!=3.1.19,<4,>=3.0.7->streamlit) (4.0.11)\n",
            "Requirement already satisfied: zipp>=0.5 in /usr/local/lib/python3.10/dist-packages (from importlib-metadata<7,>=1.4->streamlit) (3.17.0)\n",
            "Requirement already satisfied: pytz>=2020.1 in /usr/local/lib/python3.10/dist-packages (from pandas<3,>=1.3.0->streamlit) (2023.3.post1)\n",
            "Requirement already satisfied: six>=1.5 in /usr/local/lib/python3.10/dist-packages (from python-dateutil<3,>=2.7.3->streamlit) (1.16.0)\n",
            "Requirement already satisfied: charset-normalizer<4,>=2 in /usr/local/lib/python3.10/dist-packages (from requests<3,>=2.27->streamlit) (3.3.2)\n",
            "Requirement already satisfied: idna<4,>=2.5 in /usr/local/lib/python3.10/dist-packages (from requests<3,>=2.27->streamlit) (3.6)\n",
            "Requirement already satisfied: urllib3<3,>=1.21.1 in /usr/local/lib/python3.10/dist-packages (from requests<3,>=2.27->streamlit) (2.0.7)\n",
            "Requirement already satisfied: certifi>=2017.4.17 in /usr/local/lib/python3.10/dist-packages (from requests<3,>=2.27->streamlit) (2023.11.17)\n",
            "Requirement already satisfied: markdown-it-py>=2.2.0 in /usr/local/lib/python3.10/dist-packages (from rich<14,>=10.14.0->streamlit) (3.0.0)\n",
            "Requirement already satisfied: pygments<3.0.0,>=2.13.0 in /usr/local/lib/python3.10/dist-packages (from rich<14,>=10.14.0->streamlit) (2.16.1)\n",
            "Requirement already satisfied: smmap<6,>=3.0.1 in /usr/local/lib/python3.10/dist-packages (from gitdb<5,>=4.0.1->gitpython!=3.1.19,<4,>=3.0.7->streamlit) (5.0.1)\n",
            "Requirement already satisfied: MarkupSafe>=2.0 in /usr/local/lib/python3.10/dist-packages (from jinja2->altair<6,>=4.0->streamlit) (2.1.3)\n",
            "Requirement already satisfied: attrs>=22.2.0 in /usr/local/lib/python3.10/dist-packages (from jsonschema>=3.0->altair<6,>=4.0->streamlit) (23.1.0)\n",
            "Requirement already satisfied: jsonschema-specifications>=2023.03.6 in /usr/local/lib/python3.10/dist-packages (from jsonschema>=3.0->altair<6,>=4.0->streamlit) (2023.11.2)\n",
            "Requirement already satisfied: referencing>=0.28.4 in /usr/local/lib/python3.10/dist-packages (from jsonschema>=3.0->altair<6,>=4.0->streamlit) (0.32.0)\n",
            "Requirement already satisfied: rpds-py>=0.7.1 in /usr/local/lib/python3.10/dist-packages (from jsonschema>=3.0->altair<6,>=4.0->streamlit) (0.13.2)\n",
            "Requirement already satisfied: mdurl~=0.1 in /usr/local/lib/python3.10/dist-packages (from markdown-it-py>=2.2.0->rich<14,>=10.14.0->streamlit) (0.1.2)\n"
          ]
        }
      ],
      "source": [
        "!pip install streamlit"
      ]
    },
    {
      "cell_type": "code",
      "execution_count": 30,
      "metadata": {
        "colab": {
          "base_uri": "https://localhost:8080/"
        },
        "id": "vMFV6QONtW2n",
        "outputId": "17084c7f-8b93-409b-fb59-9c158e61cd7f"
      },
      "outputs": [
        {
          "output_type": "stream",
          "name": "stdout",
          "text": [
            "Writing app.py\n"
          ]
        }
      ],
      "source": [
        "%%writefile app.py\n",
        "import pandas as pd\n",
        "import numpy as np\n",
        "import matplotlib.pyplot as plt\n",
        "import seaborn as sns\n",
        "import streamlit as st\n",
        "from babel.numbers import format_currency\n",
        "sns.set(style='dark')\n",
        "from datetime import datetime\n",
        "from datetime import timedelta\n",
        "\n",
        "all_df = pd.read_csv(\"main_data.csv\")\n",
        "day_df = pd.read_csv(\"data_day.csv\")\n",
        "st.header('Dashboard Index Kualitas Udara Stasiun Aotizhongxin')\n",
        "\n",
        "#st.write(all_df)\n",
        "\n",
        "with st.sidebar:\n",
        "    # Menambahkan logo perusahaan\n",
        "    st.image(\"https://i.imgur.com/wkufRHT.png\")\n",
        "\n",
        "    # Mengambil start_date & end_date dari date_input\n",
        "    tgl_input = st.date_input(\n",
        "        label='Tanggal',\n",
        "        value=\"today\")\n",
        "\n",
        "    tgl_before = tgl_input + timedelta(days=-7)\n",
        "    tgl_now = pd.to_datetime(tgl_input)\n",
        "    tgl_se = tgl_now + timedelta(hours=23)\n",
        "    tgl_after = tgl_input + timedelta(days=7)\n",
        "\n",
        "# filter data before 7 hari\n",
        "before_df = day_df[(day_df[\"Datetime\"] >= str(tgl_before)) &\n",
        "                (day_df[\"Datetime\"] < str(tgl_input))]\n",
        "\n",
        "# filter data hari ini\n",
        "today_df = all_df[(all_df[\"Datetime\"] >= str(tgl_now)) &\n",
        "                (all_df[\"Datetime\"] <= str(tgl_se))]\n",
        "\n",
        "# filter data after 7 hari\n",
        "after_df = day_df[(day_df[\"Datetime\"] > str(tgl_input)) &\n",
        "                (day_df[\"Datetime\"] <= str(tgl_after))]\n",
        "\n",
        "# Corelasi metrik kadar PM2.5, PM10, SO2, NO2, CO dan O3\n",
        "correlation_matrix = today_df[['PM2.5', 'PM10', 'SO2', 'NO2', 'CO', 'O3']].corr().round(2)\n",
        "\n",
        "# untuk mengatur ukuran\n",
        "fig, ax = plt.subplots(figsize=(6, 6))\n",
        "\n",
        "# Untuk menge-print nilai di dalam kotak, gunakan parameter anot=True, cmap untuk mengatur warna dari biru=dingin dan merah=panas,\n",
        "# linewidths untuk memberikan spasi antar baris dan kolom\n",
        "sns.heatmap(data=correlation_matrix, annot=True, cmap='coolwarm', linewidths=0.5, )\n",
        "plt.title(\"Correlation Matrix untuk PM2.5, PM10, SO2, NO2, CO dan O3\", size=13)\n",
        "st.pyplot(fig)\n",
        "\n",
        "# plot regresi 1\n",
        "col1, col2 = st.columns(2)\n",
        "fig, ax = plt.subplots(figsize=(16, 8))\n",
        "with col1:\n",
        "  option1 = st.selectbox(\"Option X\", (\"PM2.5\", \"PM10\", \"SO2\", \"NO2\", \"CO\", \"O3\"), placeholder=\"Choose an option\", key=\"option1\")\n",
        "with col2:\n",
        "  option2 = st.selectbox(\"Option Y\", (\"PM2.5\", \"PM10\", \"SO2\", \"NO2\", \"CO\", \"O3\"), placeholder=\"Choose an option\", key=\"option2\")\n",
        "sns.regplot(x=option1, y=option2, data=today_df)\n",
        "ax.tick_params(axis='y', labelsize=20)\n",
        "ax.tick_params(axis='x', labelsize=20)\n",
        "ax.set_xlabel(option1, fontsize=20)\n",
        "ax.set_ylabel(option2, fontsize=20)\n",
        "st.pyplot(fig)\n",
        "\n",
        "# Corelasi metrik Temperatur dan Suhu Titik Embun\n",
        "correlation_matrix = today_df[['TEMP', 'DEWP']].corr().round(2)\n",
        "\n",
        "# untuk mengatur ukuran\n",
        "fig, ax = plt.subplots(figsize=(5, 5))\n",
        "\n",
        "# Untuk menge-print nilai di dalam kotak, gunakan parameter anot=True, cmap untuk mengatur warna dari biru=dingin dan merah=panas,\n",
        "# linewidths untuk memberikan spasi antar baris dan kolom\n",
        "sns.heatmap(data=correlation_matrix, annot=True, cmap='coolwarm', linewidths=0.5, )\n",
        "plt.title(\"Correlation Matrix untuk Temperatur dan Suhu Titik Embun\", size=10)\n",
        "st.pyplot(fig)\n",
        "\n",
        "# Today Plot\n",
        "st.subheader(\"Indeks Kualitas Udara Hari ini\")\n",
        "\n",
        "fig, ax = plt.subplots(figsize=(16, 8))\n",
        "ax.plot(\n",
        "  today_df['hour'], today_df['Skor'], color='red'\n",
        ")\n",
        "ax.tick_params(axis='y', labelsize=20)\n",
        "ax.tick_params(axis='x', labelsize=20)\n",
        "ax.set_ylabel('Skor', fontsize=20)\n",
        "ax.set_xlabel('Jam', fontsize=20)\n",
        "st.pyplot(fig)\n",
        "\n",
        "# Before Plot\n",
        "st.subheader(\"Indeks Kualitas Udara 7 Hari yang lalu\")\n",
        "\n",
        "fig, ax = plt.subplots(figsize=(16, 8))\n",
        "ax.plot(\n",
        "  before_df['Datetime'], before_df['Skor'], color='red'\n",
        ")\n",
        "ax.tick_params(axis='y', labelsize=20)\n",
        "ax.tick_params(axis='x', labelsize=20)\n",
        "ax.set_xticks(np.arange(len(before_df['Datetime'])), rotation=45, labels=before_df['Datetime'])\n",
        "ax.set_ylabel('Skor', fontsize=20)\n",
        "ax.set_xlabel('Tanggal', fontsize=20)\n",
        "st.pyplot(fig)"
      ]
    },
    {
      "cell_type": "code",
      "execution_count": 31,
      "metadata": {
        "colab": {
          "base_uri": "https://localhost:8080/"
        },
        "id": "kCt4kvFmtakD",
        "outputId": "6376981f-80b8-4c38-b200-456858bdd82b"
      },
      "outputs": [
        {
          "output_type": "stream",
          "name": "stdout",
          "text": [
            "[..................] / rollbackFailedOptional: verb npm-session 8fcc9b21ee2c86a\u001b[0m\u001b[K\n",
            "Collecting usage statistics. To deactivate, set browser.gatherUsageStats to False.\n",
            "\u001b[0m\n",
            "\u001b[0m\n",
            "\u001b[34m\u001b[1m  You can now view your Streamlit app in your browser.\u001b[0m\n",
            "\u001b[0m\n",
            "\u001b[34m  Network URL: \u001b[0m\u001b[1mhttp://172.28.0.12:8501\u001b[0m\n",
            "\u001b[34m  External URL: \u001b[0m\u001b[1mhttp://34.145.208.106:8501\u001b[0m\n",
            "\u001b[0m\n",
            "\u001b[K\u001b[?25hnpx: installed 22 in 3.791s\n",
            "your url is: https://olive-moments-turn.loca.lt\n",
            "\u001b[34m  Stopping...\u001b[0m\n",
            "^C\n"
          ]
        }
      ],
      "source": [
        "!streamlit run app.py & npx localtunnel --port 8501"
      ]
    },
    {
      "cell_type": "code",
      "execution_count": 32,
      "metadata": {
        "id": "q2TRnuzYZgy3"
      },
      "outputs": [],
      "source": [
        "# untuk menghapus file saat preses development\n",
        "import os\n",
        "\n",
        "#os.remove(\"/content/app.py\")\n",
        "#os.remove(\"/content/main_data.csv\")\n",
        "#os.remove(\"/content/data_day.csv\")\n",
        "#os.remove(\"/content/requirements.txt\")"
      ]
    }
  ],
  "metadata": {
    "colab": {
      "provenance": [],
      "include_colab_link": true
    },
    "kernelspec": {
      "display_name": "Python 3",
      "name": "python3"
    },
    "language_info": {
      "name": "python"
    }
  },
  "nbformat": 4,
  "nbformat_minor": 0
}